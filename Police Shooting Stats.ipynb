{
 "cells": [
  {
   "cell_type": "code",
   "execution_count": 1,
   "id": "c7387560-d094-44d1-9b49-634eb49b0c8f",
   "metadata": {},
   "outputs": [
    {
     "name": "stdout",
     "output_type": "stream",
     "text": [
      "Requirement already satisfied: kaggle in /opt/anaconda3/lib/python3.12/site-packages (1.7.4.5)\n",
      "Requirement already satisfied: bleach in /opt/anaconda3/lib/python3.12/site-packages (from kaggle) (4.1.0)\n",
      "Requirement already satisfied: certifi>=14.05.14 in /opt/anaconda3/lib/python3.12/site-packages (from kaggle) (2025.4.26)\n",
      "Requirement already satisfied: charset-normalizer in /opt/anaconda3/lib/python3.12/site-packages (from kaggle) (3.3.2)\n",
      "Requirement already satisfied: idna in /opt/anaconda3/lib/python3.12/site-packages (from kaggle) (3.7)\n",
      "Requirement already satisfied: protobuf in /opt/anaconda3/lib/python3.12/site-packages (from kaggle) (4.25.3)\n",
      "Requirement already satisfied: python-dateutil>=2.5.3 in /opt/anaconda3/lib/python3.12/site-packages (from kaggle) (2.9.0.post0)\n",
      "Requirement already satisfied: python-slugify in /opt/anaconda3/lib/python3.12/site-packages (from kaggle) (5.0.2)\n",
      "Requirement already satisfied: requests in /opt/anaconda3/lib/python3.12/site-packages (from kaggle) (2.32.3)\n",
      "Requirement already satisfied: setuptools>=21.0.0 in /opt/anaconda3/lib/python3.12/site-packages (from kaggle) (75.1.0)\n",
      "Requirement already satisfied: six>=1.10 in /opt/anaconda3/lib/python3.12/site-packages (from kaggle) (1.16.0)\n",
      "Requirement already satisfied: text-unidecode in /opt/anaconda3/lib/python3.12/site-packages (from kaggle) (1.3)\n",
      "Requirement already satisfied: tqdm in /opt/anaconda3/lib/python3.12/site-packages (from kaggle) (4.66.5)\n",
      "Requirement already satisfied: urllib3>=1.15.1 in /opt/anaconda3/lib/python3.12/site-packages (from kaggle) (2.2.3)\n",
      "Requirement already satisfied: webencodings in /opt/anaconda3/lib/python3.12/site-packages (from kaggle) (0.5.1)\n",
      "Requirement already satisfied: packaging in /opt/anaconda3/lib/python3.12/site-packages (from bleach->kaggle) (24.1)\n",
      "Note: you may need to restart the kernel to use updated packages.\n"
     ]
    }
   ],
   "source": [
    "pip install kaggle "
   ]
  },
  {
   "cell_type": "code",
   "execution_count": 2,
   "id": "afa65802-ee5c-4fcf-985a-4af2bacba880",
   "metadata": {},
   "outputs": [
    {
     "name": "stdout",
     "output_type": "stream",
     "text": [
      "Requirement already satisfied: ydata-profiling in /opt/anaconda3/lib/python3.12/site-packages (4.16.1)\n",
      "Requirement already satisfied: scipy<1.16,>=1.4.1 in /opt/anaconda3/lib/python3.12/site-packages (from ydata-profiling) (1.13.1)\n",
      "Requirement already satisfied: pandas!=1.4.0,<3.0,>1.1 in /opt/anaconda3/lib/python3.12/site-packages (from ydata-profiling) (2.2.2)\n",
      "Requirement already satisfied: matplotlib<=3.10,>=3.5 in /opt/anaconda3/lib/python3.12/site-packages (from ydata-profiling) (3.9.2)\n",
      "Requirement already satisfied: pydantic>=2 in /opt/anaconda3/lib/python3.12/site-packages (from ydata-profiling) (2.8.2)\n",
      "Requirement already satisfied: PyYAML<6.1,>=5.0.0 in /opt/anaconda3/lib/python3.12/site-packages (from ydata-profiling) (6.0.1)\n",
      "Requirement already satisfied: jinja2<3.2,>=2.11.1 in /opt/anaconda3/lib/python3.12/site-packages (from ydata-profiling) (3.1.4)\n",
      "Requirement already satisfied: visions<0.8.2,>=0.7.5 in /opt/anaconda3/lib/python3.12/site-packages (from visions[type_image_path]<0.8.2,>=0.7.5->ydata-profiling) (0.8.1)\n",
      "Requirement already satisfied: numpy<2.2,>=1.16.0 in /opt/anaconda3/lib/python3.12/site-packages (from ydata-profiling) (1.26.4)\n",
      "Requirement already satisfied: htmlmin==0.1.12 in /opt/anaconda3/lib/python3.12/site-packages (from ydata-profiling) (0.1.12)\n",
      "Requirement already satisfied: phik<0.13,>=0.11.1 in /opt/anaconda3/lib/python3.12/site-packages (from ydata-profiling) (0.12.4)\n",
      "Requirement already satisfied: requests<3,>=2.24.0 in /opt/anaconda3/lib/python3.12/site-packages (from ydata-profiling) (2.32.3)\n",
      "Requirement already satisfied: tqdm<5,>=4.48.2 in /opt/anaconda3/lib/python3.12/site-packages (from ydata-profiling) (4.66.5)\n",
      "Requirement already satisfied: seaborn<0.14,>=0.10.1 in /opt/anaconda3/lib/python3.12/site-packages (from ydata-profiling) (0.13.2)\n",
      "Requirement already satisfied: multimethod<2,>=1.4 in /opt/anaconda3/lib/python3.12/site-packages (from ydata-profiling) (1.12)\n",
      "Requirement already satisfied: statsmodels<1,>=0.13.2 in /opt/anaconda3/lib/python3.12/site-packages (from ydata-profiling) (0.14.2)\n",
      "Requirement already satisfied: typeguard<5,>=3 in /opt/anaconda3/lib/python3.12/site-packages (from ydata-profiling) (4.4.4)\n",
      "Requirement already satisfied: imagehash==4.3.1 in /opt/anaconda3/lib/python3.12/site-packages (from ydata-profiling) (4.3.1)\n",
      "Requirement already satisfied: wordcloud>=1.9.3 in /opt/anaconda3/lib/python3.12/site-packages (from ydata-profiling) (1.9.4)\n",
      "Requirement already satisfied: dacite>=1.8 in /opt/anaconda3/lib/python3.12/site-packages (from ydata-profiling) (1.9.2)\n",
      "Requirement already satisfied: numba<=0.61,>=0.56.0 in /opt/anaconda3/lib/python3.12/site-packages (from ydata-profiling) (0.60.0)\n",
      "Requirement already satisfied: PyWavelets in /opt/anaconda3/lib/python3.12/site-packages (from imagehash==4.3.1->ydata-profiling) (1.7.0)\n",
      "Requirement already satisfied: pillow in /opt/anaconda3/lib/python3.12/site-packages (from imagehash==4.3.1->ydata-profiling) (10.4.0)\n",
      "Requirement already satisfied: MarkupSafe>=2.0 in /opt/anaconda3/lib/python3.12/site-packages (from jinja2<3.2,>=2.11.1->ydata-profiling) (2.1.3)\n",
      "Requirement already satisfied: contourpy>=1.0.1 in /opt/anaconda3/lib/python3.12/site-packages (from matplotlib<=3.10,>=3.5->ydata-profiling) (1.2.0)\n",
      "Requirement already satisfied: cycler>=0.10 in /opt/anaconda3/lib/python3.12/site-packages (from matplotlib<=3.10,>=3.5->ydata-profiling) (0.11.0)\n",
      "Requirement already satisfied: fonttools>=4.22.0 in /opt/anaconda3/lib/python3.12/site-packages (from matplotlib<=3.10,>=3.5->ydata-profiling) (4.51.0)\n",
      "Requirement already satisfied: kiwisolver>=1.3.1 in /opt/anaconda3/lib/python3.12/site-packages (from matplotlib<=3.10,>=3.5->ydata-profiling) (1.4.4)\n",
      "Requirement already satisfied: packaging>=20.0 in /opt/anaconda3/lib/python3.12/site-packages (from matplotlib<=3.10,>=3.5->ydata-profiling) (24.1)\n",
      "Requirement already satisfied: pyparsing>=2.3.1 in /opt/anaconda3/lib/python3.12/site-packages (from matplotlib<=3.10,>=3.5->ydata-profiling) (3.1.2)\n",
      "Requirement already satisfied: python-dateutil>=2.7 in /opt/anaconda3/lib/python3.12/site-packages (from matplotlib<=3.10,>=3.5->ydata-profiling) (2.9.0.post0)\n",
      "Requirement already satisfied: llvmlite<0.44,>=0.43.0dev0 in /opt/anaconda3/lib/python3.12/site-packages (from numba<=0.61,>=0.56.0->ydata-profiling) (0.43.0)\n",
      "Requirement already satisfied: pytz>=2020.1 in /opt/anaconda3/lib/python3.12/site-packages (from pandas!=1.4.0,<3.0,>1.1->ydata-profiling) (2024.1)\n",
      "Requirement already satisfied: tzdata>=2022.7 in /opt/anaconda3/lib/python3.12/site-packages (from pandas!=1.4.0,<3.0,>1.1->ydata-profiling) (2023.3)\n",
      "Requirement already satisfied: joblib>=0.14.1 in /opt/anaconda3/lib/python3.12/site-packages (from phik<0.13,>=0.11.1->ydata-profiling) (1.1.1)\n",
      "Requirement already satisfied: annotated-types>=0.4.0 in /opt/anaconda3/lib/python3.12/site-packages (from pydantic>=2->ydata-profiling) (0.6.0)\n",
      "Requirement already satisfied: pydantic-core==2.20.1 in /opt/anaconda3/lib/python3.12/site-packages (from pydantic>=2->ydata-profiling) (2.20.1)\n",
      "Requirement already satisfied: typing-extensions>=4.6.1 in /opt/anaconda3/lib/python3.12/site-packages (from pydantic>=2->ydata-profiling) (4.14.0)\n",
      "Requirement already satisfied: charset-normalizer<4,>=2 in /opt/anaconda3/lib/python3.12/site-packages (from requests<3,>=2.24.0->ydata-profiling) (3.3.2)\n",
      "Requirement already satisfied: idna<4,>=2.5 in /opt/anaconda3/lib/python3.12/site-packages (from requests<3,>=2.24.0->ydata-profiling) (3.7)\n",
      "Requirement already satisfied: urllib3<3,>=1.21.1 in /opt/anaconda3/lib/python3.12/site-packages (from requests<3,>=2.24.0->ydata-profiling) (2.2.3)\n",
      "Requirement already satisfied: certifi>=2017.4.17 in /opt/anaconda3/lib/python3.12/site-packages (from requests<3,>=2.24.0->ydata-profiling) (2025.4.26)\n",
      "Requirement already satisfied: patsy>=0.5.6 in /opt/anaconda3/lib/python3.12/site-packages (from statsmodels<1,>=0.13.2->ydata-profiling) (0.5.6)\n",
      "Requirement already satisfied: attrs>=19.3.0 in /opt/anaconda3/lib/python3.12/site-packages (from visions<0.8.2,>=0.7.5->visions[type_image_path]<0.8.2,>=0.7.5->ydata-profiling) (23.1.0)\n",
      "Requirement already satisfied: networkx>=2.4 in /opt/anaconda3/lib/python3.12/site-packages (from visions<0.8.2,>=0.7.5->visions[type_image_path]<0.8.2,>=0.7.5->ydata-profiling) (3.3)\n",
      "Requirement already satisfied: puremagic in /opt/anaconda3/lib/python3.12/site-packages (from visions<0.8.2,>=0.7.5->visions[type_image_path]<0.8.2,>=0.7.5->ydata-profiling) (1.29)\n",
      "Requirement already satisfied: six in /opt/anaconda3/lib/python3.12/site-packages (from patsy>=0.5.6->statsmodels<1,>=0.13.2->ydata-profiling) (1.16.0)\n"
     ]
    },
    {
     "data": {
      "text/html": [
       "\n",
       "            <div>\n",
       "                <ins><a href=\"https://ydata.ai/register\">Upgrade to ydata-sdk</a></ins>\n",
       "                <p>\n",
       "                    Improve your data and profiling with ydata-sdk, featuring data quality scoring, redundancy detection, outlier identification, text validation, and synthetic data generation.\n",
       "                </p>\n",
       "            </div>\n",
       "            "
      ],
      "text/plain": [
       "<IPython.core.display.HTML object>"
      ]
     },
     "metadata": {},
     "output_type": "display_data"
    }
   ],
   "source": [
    "\n",
    "\n",
    "import pandas as pd\n",
    "import seaborn as sns\n",
    "import numpy as np\n",
    "import matplotlib.pyplot as plt\n",
    "import geopandas as gpd\n",
    "from datetime import datetime\n",
    "import plotly.express as px \n",
    "import folium\n",
    "from sklearn.model_selection import train_test_split\n",
    "from sklearn.linear_model import LogisticRegression\n",
    "import statsmodels.api as sm\n",
    "!pip install ydata-profiling\n",
    "# Option 1: Use ydata-profiling instead (newer version of pandas-profiling)\n",
    "from ydata_profiling import ProfileReport  # recommended replacement\n",
    "\n"
   ]
  },
  {
   "cell_type": "code",
   "execution_count": 3,
   "id": "80dc013a-997e-4367-8182-38d0263da706",
   "metadata": {},
   "outputs": [],
   "source": [
    "\n",
    "\n",
    "# Set display options to show everything\n",
    "# pd.set_option('display.max_rows', None)       # Show all rows\n",
    "# pd.set_option('display.max_columns', None)    # Show all columns\n",
    "# pd.set_option('display.width', None)          # Prevent line wrapping\n",
    "# pd.set_option('display.max_colwidth', None)   # Show full content in each cell\n",
    "\n"
   ]
  },
  {
   "cell_type": "code",
   "execution_count": 4,
   "id": "c2383c1c-59a6-4f54-b8de-cd708ff6e31e",
   "metadata": {},
   "outputs": [
    {
     "data": {
      "text/html": [
       "<div>\n",
       "<style scoped>\n",
       "    .dataframe tbody tr th:only-of-type {\n",
       "        vertical-align: middle;\n",
       "    }\n",
       "\n",
       "    .dataframe tbody tr th {\n",
       "        vertical-align: top;\n",
       "    }\n",
       "\n",
       "    .dataframe thead th {\n",
       "        text-align: right;\n",
       "    }\n",
       "</style>\n",
       "<table border=\"1\" class=\"dataframe\">\n",
       "  <thead>\n",
       "    <tr style=\"text-align: right;\">\n",
       "      <th></th>\n",
       "      <th>id</th>\n",
       "      <th>name</th>\n",
       "      <th>date</th>\n",
       "      <th>manner_of_death</th>\n",
       "      <th>armed</th>\n",
       "      <th>age</th>\n",
       "      <th>gender</th>\n",
       "      <th>race</th>\n",
       "      <th>city</th>\n",
       "      <th>state</th>\n",
       "      <th>signs_of_mental_illness</th>\n",
       "      <th>threat_level</th>\n",
       "      <th>flee</th>\n",
       "      <th>body_camera</th>\n",
       "    </tr>\n",
       "  </thead>\n",
       "  <tbody>\n",
       "    <tr>\n",
       "      <th>0</th>\n",
       "      <td>3</td>\n",
       "      <td>Tim Elliot</td>\n",
       "      <td>2015-01-02</td>\n",
       "      <td>shot</td>\n",
       "      <td>gun</td>\n",
       "      <td>53.0</td>\n",
       "      <td>M</td>\n",
       "      <td>A</td>\n",
       "      <td>Shelton</td>\n",
       "      <td>WA</td>\n",
       "      <td>True</td>\n",
       "      <td>attack</td>\n",
       "      <td>Not fleeing</td>\n",
       "      <td>False</td>\n",
       "    </tr>\n",
       "    <tr>\n",
       "      <th>1</th>\n",
       "      <td>4</td>\n",
       "      <td>Lewis Lee Lembke</td>\n",
       "      <td>2015-01-02</td>\n",
       "      <td>shot</td>\n",
       "      <td>gun</td>\n",
       "      <td>47.0</td>\n",
       "      <td>M</td>\n",
       "      <td>W</td>\n",
       "      <td>Aloha</td>\n",
       "      <td>OR</td>\n",
       "      <td>False</td>\n",
       "      <td>attack</td>\n",
       "      <td>Not fleeing</td>\n",
       "      <td>False</td>\n",
       "    </tr>\n",
       "    <tr>\n",
       "      <th>2</th>\n",
       "      <td>5</td>\n",
       "      <td>John Paul Quintero</td>\n",
       "      <td>2015-01-03</td>\n",
       "      <td>shot and Tasered</td>\n",
       "      <td>unarmed</td>\n",
       "      <td>23.0</td>\n",
       "      <td>M</td>\n",
       "      <td>H</td>\n",
       "      <td>Wichita</td>\n",
       "      <td>KS</td>\n",
       "      <td>False</td>\n",
       "      <td>other</td>\n",
       "      <td>Not fleeing</td>\n",
       "      <td>False</td>\n",
       "    </tr>\n",
       "    <tr>\n",
       "      <th>3</th>\n",
       "      <td>8</td>\n",
       "      <td>Matthew Hoffman</td>\n",
       "      <td>2015-01-04</td>\n",
       "      <td>shot</td>\n",
       "      <td>toy weapon</td>\n",
       "      <td>32.0</td>\n",
       "      <td>M</td>\n",
       "      <td>W</td>\n",
       "      <td>San Francisco</td>\n",
       "      <td>CA</td>\n",
       "      <td>True</td>\n",
       "      <td>attack</td>\n",
       "      <td>Not fleeing</td>\n",
       "      <td>False</td>\n",
       "    </tr>\n",
       "    <tr>\n",
       "      <th>4</th>\n",
       "      <td>9</td>\n",
       "      <td>Michael Rodriguez</td>\n",
       "      <td>2015-01-04</td>\n",
       "      <td>shot</td>\n",
       "      <td>nail gun</td>\n",
       "      <td>39.0</td>\n",
       "      <td>M</td>\n",
       "      <td>H</td>\n",
       "      <td>Evans</td>\n",
       "      <td>CO</td>\n",
       "      <td>False</td>\n",
       "      <td>attack</td>\n",
       "      <td>Not fleeing</td>\n",
       "      <td>False</td>\n",
       "    </tr>\n",
       "    <tr>\n",
       "      <th>...</th>\n",
       "      <td>...</td>\n",
       "      <td>...</td>\n",
       "      <td>...</td>\n",
       "      <td>...</td>\n",
       "      <td>...</td>\n",
       "      <td>...</td>\n",
       "      <td>...</td>\n",
       "      <td>...</td>\n",
       "      <td>...</td>\n",
       "      <td>...</td>\n",
       "      <td>...</td>\n",
       "      <td>...</td>\n",
       "      <td>...</td>\n",
       "      <td>...</td>\n",
       "    </tr>\n",
       "    <tr>\n",
       "      <th>5411</th>\n",
       "      <td>5921</td>\n",
       "      <td>William Slyter</td>\n",
       "      <td>2020-06-13</td>\n",
       "      <td>shot</td>\n",
       "      <td>gun</td>\n",
       "      <td>22.0</td>\n",
       "      <td>M</td>\n",
       "      <td>W</td>\n",
       "      <td>Kansas City</td>\n",
       "      <td>MO</td>\n",
       "      <td>False</td>\n",
       "      <td>other</td>\n",
       "      <td>Other</td>\n",
       "      <td>False</td>\n",
       "    </tr>\n",
       "    <tr>\n",
       "      <th>5412</th>\n",
       "      <td>5922</td>\n",
       "      <td>TK TK</td>\n",
       "      <td>2020-06-13</td>\n",
       "      <td>shot</td>\n",
       "      <td>undetermined</td>\n",
       "      <td>NaN</td>\n",
       "      <td>M</td>\n",
       "      <td>NaN</td>\n",
       "      <td>San Bernardino</td>\n",
       "      <td>CA</td>\n",
       "      <td>False</td>\n",
       "      <td>attack</td>\n",
       "      <td>Not fleeing</td>\n",
       "      <td>False</td>\n",
       "    </tr>\n",
       "    <tr>\n",
       "      <th>5413</th>\n",
       "      <td>5924</td>\n",
       "      <td>Nicholas Hirsh</td>\n",
       "      <td>2020-06-15</td>\n",
       "      <td>shot</td>\n",
       "      <td>gun</td>\n",
       "      <td>31.0</td>\n",
       "      <td>M</td>\n",
       "      <td>W</td>\n",
       "      <td>Lawrence</td>\n",
       "      <td>KS</td>\n",
       "      <td>False</td>\n",
       "      <td>attack</td>\n",
       "      <td>Car</td>\n",
       "      <td>False</td>\n",
       "    </tr>\n",
       "    <tr>\n",
       "      <th>5414</th>\n",
       "      <td>5926</td>\n",
       "      <td>TK TK</td>\n",
       "      <td>2020-06-16</td>\n",
       "      <td>shot</td>\n",
       "      <td>gun</td>\n",
       "      <td>24.0</td>\n",
       "      <td>M</td>\n",
       "      <td>NaN</td>\n",
       "      <td>Beach Park</td>\n",
       "      <td>IL</td>\n",
       "      <td>False</td>\n",
       "      <td>attack</td>\n",
       "      <td>Not fleeing</td>\n",
       "      <td>False</td>\n",
       "    </tr>\n",
       "    <tr>\n",
       "      <th>5415</th>\n",
       "      <td>5927</td>\n",
       "      <td>TK TK</td>\n",
       "      <td>2020-06-16</td>\n",
       "      <td>shot</td>\n",
       "      <td>gun</td>\n",
       "      <td>27.0</td>\n",
       "      <td>M</td>\n",
       "      <td>NaN</td>\n",
       "      <td>Phoenix</td>\n",
       "      <td>AZ</td>\n",
       "      <td>False</td>\n",
       "      <td>attack</td>\n",
       "      <td>Not fleeing</td>\n",
       "      <td>False</td>\n",
       "    </tr>\n",
       "  </tbody>\n",
       "</table>\n",
       "<p>5416 rows × 14 columns</p>\n",
       "</div>"
      ],
      "text/plain": [
       "        id                name        date   manner_of_death         armed  \\\n",
       "0        3          Tim Elliot  2015-01-02              shot           gun   \n",
       "1        4    Lewis Lee Lembke  2015-01-02              shot           gun   \n",
       "2        5  John Paul Quintero  2015-01-03  shot and Tasered       unarmed   \n",
       "3        8     Matthew Hoffman  2015-01-04              shot    toy weapon   \n",
       "4        9   Michael Rodriguez  2015-01-04              shot      nail gun   \n",
       "...    ...                 ...         ...               ...           ...   \n",
       "5411  5921      William Slyter  2020-06-13              shot           gun   \n",
       "5412  5922               TK TK  2020-06-13              shot  undetermined   \n",
       "5413  5924      Nicholas Hirsh  2020-06-15              shot           gun   \n",
       "5414  5926               TK TK  2020-06-16              shot           gun   \n",
       "5415  5927               TK TK  2020-06-16              shot           gun   \n",
       "\n",
       "       age gender race            city state  signs_of_mental_illness  \\\n",
       "0     53.0      M    A         Shelton    WA                     True   \n",
       "1     47.0      M    W           Aloha    OR                    False   \n",
       "2     23.0      M    H         Wichita    KS                    False   \n",
       "3     32.0      M    W   San Francisco    CA                     True   \n",
       "4     39.0      M    H           Evans    CO                    False   \n",
       "...    ...    ...  ...             ...   ...                      ...   \n",
       "5411  22.0      M    W     Kansas City    MO                    False   \n",
       "5412   NaN      M  NaN  San Bernardino    CA                    False   \n",
       "5413  31.0      M    W        Lawrence    KS                    False   \n",
       "5414  24.0      M  NaN      Beach Park    IL                    False   \n",
       "5415  27.0      M  NaN         Phoenix    AZ                    False   \n",
       "\n",
       "     threat_level         flee  body_camera  \n",
       "0          attack  Not fleeing        False  \n",
       "1          attack  Not fleeing        False  \n",
       "2           other  Not fleeing        False  \n",
       "3          attack  Not fleeing        False  \n",
       "4          attack  Not fleeing        False  \n",
       "...           ...          ...          ...  \n",
       "5411        other        Other        False  \n",
       "5412       attack  Not fleeing        False  \n",
       "5413       attack          Car        False  \n",
       "5414       attack  Not fleeing        False  \n",
       "5415       attack  Not fleeing        False  \n",
       "\n",
       "[5416 rows x 14 columns]"
      ]
     },
     "execution_count": 4,
     "metadata": {},
     "output_type": "execute_result"
    }
   ],
   "source": [
    "df = pd.read_csv(\"/Users/adrianamenjivar/Downloads/fatal-police-shootings-data.csv\")\n",
    "\n",
    "df"
   ]
  },
  {
   "cell_type": "code",
   "execution_count": 92,
   "id": "ac8c94dc-dae6-4792-a375-e019d0de47e6",
   "metadata": {},
   "outputs": [
    {
     "name": "stdout",
     "output_type": "stream",
     "text": [
      "age total: 5181\n",
      "age min: 6.0\n",
      "age max: 91.0\n",
      "these values are below 25%: 27.0\n",
      " median: 35.0\n",
      "46.0\n",
      "37.11793090137039\n",
      "35.0\n",
      "0    31.0\n",
      "Name: age, dtype: float64\n"
     ]
    }
   ],
   "source": [
    "#spread of the data \n",
    "print(f'age total: {df.age.count()}')\n",
    "print(f'age min: {df.age.min()}')\n",
    "print(f'age max: {df.age.max()}') #highest value\n",
    "print(f'these values are below 25%: {df.age.quantile(.25)}') # value 25% of the records are below it \n",
    "print(f' median: {df.age.quantile(.50)}') # alue of 50% similar to median.. 50 % will be lower than that\n",
    "print(df.age.quantile(.75)) # 75% of the data is below that amount \n",
    "print(df.age.mean())\n",
    "print(df.age.median())\n",
    "print(df.age.mode()) #count of the unique values of the list"
   ]
  },
  {
   "cell_type": "code",
   "execution_count": 97,
   "id": "090c2266-1732-43a9-9a90-556b780350fc",
   "metadata": {},
   "outputs": [
    {
     "data": {
      "text/plain": [
       "13.11613513252016"
      ]
     },
     "execution_count": 97,
     "metadata": {},
     "output_type": "execute_result"
    }
   ],
   "source": [
    "df.age.std() # numbers are diff bc pandas asumes numbers by defult - we usually use this one "
   ]
  },
  {
   "cell_type": "code",
   "execution_count": 98,
   "id": "63ef8eed-9aa0-4f02-9287-1b730ce8216e",
   "metadata": {},
   "outputs": [
    {
     "data": {
      "text/plain": [
       "13.114869279587374"
      ]
     },
     "execution_count": 98,
     "metadata": {},
     "output_type": "execute_result"
    }
   ],
   "source": [
    "np.std(df.age) #numpy assumes by population"
   ]
  },
  {
   "cell_type": "code",
   "execution_count": 102,
   "id": "12591a6a-94bb-409b-be78-65e7855f2bf9",
   "metadata": {},
   "outputs": [
    {
     "name": "stdout",
     "output_type": "stream",
     "text": [
      "nan\n",
      "nan\n"
     ]
    }
   ],
   "source": [
    "#measurre adnormality of data set\n",
    "#shows issues of skewness \n",
    "from scipy.stats import kurtosis, skew\n",
    "\n",
    "print(skew(df.age, bias=False))     \n",
    "print(kurtosis(df.age, bias=False))"
   ]
  },
  {
   "cell_type": "code",
   "execution_count": 104,
   "id": "d98a49f7-3f31-4ef2-a31f-0c253d9b210e",
   "metadata": {},
   "outputs": [
    {
     "name": "stdout",
     "output_type": "stream",
     "text": [
      "0.7067593005631907\n"
     ]
    }
   ],
   "source": [
    "print(df.age.skew()) \n",
    "#negative score skew left"
   ]
  },
  {
   "cell_type": "code",
   "execution_count": 105,
   "id": "4fda7b3d-1821-44f9-8466-79d46227457d",
   "metadata": {},
   "outputs": [
    {
     "name": "stdout",
     "output_type": "stream",
     "text": [
      "0.10355528118709278\n"
     ]
    }
   ],
   "source": [
    "print(df.age.kurt())\n",
    "#negative score skew left\n"
   ]
  },
  {
   "cell_type": "code",
   "execution_count": 5,
   "id": "b686c9e1-6846-470c-a329-b0eb3e8f8cb9",
   "metadata": {},
   "outputs": [
    {
     "name": "stdout",
     "output_type": "stream",
     "text": [
      "<class 'pandas.core.frame.DataFrame'>\n",
      "RangeIndex: 5416 entries, 0 to 5415\n",
      "Data columns (total 14 columns):\n",
      " #   Column                   Non-Null Count  Dtype  \n",
      "---  ------                   --------------  -----  \n",
      " 0   id                       5416 non-null   int64  \n",
      " 1   name                     5416 non-null   object \n",
      " 2   date                     5416 non-null   object \n",
      " 3   manner_of_death          5416 non-null   object \n",
      " 4   armed                    5189 non-null   object \n",
      " 5   age                      5181 non-null   float64\n",
      " 6   gender                   5414 non-null   object \n",
      " 7   race                     4895 non-null   object \n",
      " 8   city                     5416 non-null   object \n",
      " 9   state                    5416 non-null   object \n",
      " 10  signs_of_mental_illness  5416 non-null   bool   \n",
      " 11  threat_level             5416 non-null   object \n",
      " 12  flee                     5167 non-null   object \n",
      " 13  body_camera              5416 non-null   bool   \n",
      "dtypes: bool(2), float64(1), int64(1), object(10)\n",
      "memory usage: 518.5+ KB\n"
     ]
    }
   ],
   "source": [
    "df.info()"
   ]
  },
  {
   "cell_type": "markdown",
   "id": "7b69cadd-d95b-4e76-b390-34f7b3e0956c",
   "metadata": {},
   "source": [
    "#  Cleaning Checklist:\n",
    "- Load the dataset\n",
    "\n",
    "- Understand the structure (.info(), .head())\n",
    "\n",
    "- Convert any date/time fields\n",
    "- Check for missing values\n",
    "\n",
    "- Handle missing or invalid values\n",
    "\n",
    "- Standardize text fields (e.g., .str.strip(), .str.upper())\n",
    "- Rename columns if needed\n",
    "\n",
    "- Remove duplicates\n",
    "\n",
    "- Check for outliers (optional)"
   ]
  },
  {
   "cell_type": "code",
   "execution_count": 6,
   "id": "6ca531b9-b26e-4d09-a934-beee9ad4f0f3",
   "metadata": {},
   "outputs": [],
   "source": [
    "# turning date into proper format \n",
    "df[\"date\"] = pd.to_datetime(df[\"date\"], errors='coerce')\n",
    "\n",
    "#re name the column - then use pc.to_datetime = (tell it what collumn, if errors = coerce)\n"
   ]
  },
  {
   "cell_type": "code",
   "execution_count": 7,
   "id": "70a24769-0881-4310-9cc8-a8fe416c66a0",
   "metadata": {},
   "outputs": [],
   "source": [
    "#now with it converted we can use \n",
    "df['year'] = df['date'].dt.year\n",
    "df['month'] = df['date'].dt.month\n",
    "df['weekday'] = df['date'].dt.day_name()\n",
    "\n",
    "# THIS created new columns fro date\n",
    "# focus on the parts after the = sign so grab ur column then do dt.year etc"
   ]
  },
  {
   "cell_type": "code",
   "execution_count": 8,
   "id": "10908354-f562-40ab-b271-804aad274068",
   "metadata": {},
   "outputs": [
    {
     "data": {
      "text/plain": [
       "id                           0\n",
       "name                         0\n",
       "date                         0\n",
       "manner_of_death              0\n",
       "armed                      227\n",
       "age                        235\n",
       "gender                       2\n",
       "race                       521\n",
       "city                         0\n",
       "state                        0\n",
       "signs_of_mental_illness      0\n",
       "threat_level                 0\n",
       "flee                       249\n",
       "body_camera                  0\n",
       "year                         0\n",
       "month                        0\n",
       "weekday                      0\n",
       "dtype: int64"
      ]
     },
     "execution_count": 8,
     "metadata": {},
     "output_type": "execute_result"
    }
   ],
   "source": [
    "df.isnull().sum()\n",
    "#seeing how many nulls each column has"
   ]
  },
  {
   "cell_type": "code",
   "execution_count": 9,
   "id": "3607f284-53d4-4b0b-97fb-a0ea38e0c923",
   "metadata": {},
   "outputs": [
    {
     "name": "stdout",
     "output_type": "stream",
     "text": [
      "id: ✅ No missing values\n",
      "name: ✅ No missing values\n",
      "date: ✅ No missing values\n",
      "manner_of_death: ✅ No missing values\n",
      "armed: ⚠️ Has some missing values (4.19%)\n",
      "age: ⚠️ Has some missing values (4.34%)\n",
      "gender: ⚠️ Has some missing values (0.04%)\n",
      "race: ⚠️ Has some missing values (9.62%)\n",
      "city: ✅ No missing values\n",
      "state: ✅ No missing values\n",
      "signs_of_mental_illness: ✅ No missing values\n",
      "threat_level: ✅ No missing values\n",
      "flee: ⚠️ Has some missing values (4.60%)\n",
      "body_camera: ✅ No missing values\n",
      "year: ✅ No missing values\n",
      "month: ✅ No missing values\n",
      "weekday: ✅ No missing values\n"
     ]
    }
   ],
   "source": [
    "# checking what % of the column is empty \n",
    "\n",
    "for col in df.columns:\n",
    "    missing_percent = (df[col].isnull().sum() / len(df)) * 100\n",
    "    #divide nulls by total then divide by 100\n",
    "    \n",
    "    if missing_percent == 0:\n",
    "        print(f\"{col}: ✅ No missing values\")\n",
    "    elif missing_percent < 30:\n",
    "        print(f\"{col}: ⚠️ Has some missing values ({missing_percent:.2f}%)\")\n",
    "    else:\n",
    "        print(f\"{col}: ❌ Too many missing values ({missing_percent:.2f}%)\")\n",
    "\n",
    "# so bc theres only 30% or less of missing values we keep those columns\n"
   ]
  },
  {
   "cell_type": "code",
   "execution_count": 10,
   "id": "3d8a6618-382b-4f9e-8d6b-27c09f85de15",
   "metadata": {},
   "outputs": [],
   "source": [
    "# For text-based columns\n",
    "#filling/cleaning nulls\n",
    "\n",
    "text_cols = ['armed', 'gender', 'race', 'flee']\n",
    "for col in text_cols:\n",
    "    df[col] = df[col].fillna('Unknown').astype(str).str.strip().str.title()\n",
    "# # Step 3:stip -  Remove any extra spaces at the beginning or end (e.g., \"  Male \" → \"Male\")             \n",
    "# Step 4: title - Capitalize the first letter of each word (e.g., \"unknown\" → \"Unknown\")\n",
    "    \n",
    "\n",
    "# For numeric column\n",
    "df['age'] = df['age'].fillna(-1)\n",
    "\n"
   ]
  },
  {
   "cell_type": "code",
   "execution_count": 11,
   "id": "055d4c75-5597-440b-9c3f-e696a19bce61",
   "metadata": {},
   "outputs": [
    {
     "data": {
      "text/plain": [
       "id                         0\n",
       "name                       0\n",
       "date                       0\n",
       "manner_of_death            0\n",
       "armed                      0\n",
       "age                        0\n",
       "gender                     0\n",
       "race                       0\n",
       "city                       0\n",
       "state                      0\n",
       "signs_of_mental_illness    0\n",
       "threat_level               0\n",
       "flee                       0\n",
       "body_camera                0\n",
       "year                       0\n",
       "month                      0\n",
       "weekday                    0\n",
       "dtype: int64"
      ]
     },
     "execution_count": 11,
     "metadata": {},
     "output_type": "execute_result"
    }
   ],
   "source": [
    "df.isnull().sum()"
   ]
  },
  {
   "cell_type": "code",
   "execution_count": 12,
   "id": "8b7ebb79-067f-438b-8c87-e50363007d17",
   "metadata": {},
   "outputs": [],
   "source": [
    "# fix the values inside to all look the same\n",
    "\n",
    "\n",
    "text_cols = df.select_dtypes(include='object').columns.tolist() #saying fot every object in df\n",
    "\n",
    "for col in text_cols:\n",
    "    df[col] = df[col].astype(str).str.strip().str.upper()\n",
    "\n",
    "#strip takes out spaces and upper capatilizes everything\n"
   ]
  },
  {
   "cell_type": "code",
   "execution_count": 13,
   "id": "5e53d4bd-c4b5-41c5-991f-f546812d61a5",
   "metadata": {},
   "outputs": [
    {
     "data": {
      "text/html": [
       "<div>\n",
       "<style scoped>\n",
       "    .dataframe tbody tr th:only-of-type {\n",
       "        vertical-align: middle;\n",
       "    }\n",
       "\n",
       "    .dataframe tbody tr th {\n",
       "        vertical-align: top;\n",
       "    }\n",
       "\n",
       "    .dataframe thead th {\n",
       "        text-align: right;\n",
       "    }\n",
       "</style>\n",
       "<table border=\"1\" class=\"dataframe\">\n",
       "  <thead>\n",
       "    <tr style=\"text-align: right;\">\n",
       "      <th></th>\n",
       "      <th>id</th>\n",
       "      <th>name</th>\n",
       "      <th>date</th>\n",
       "      <th>manner_of_death</th>\n",
       "      <th>armed</th>\n",
       "      <th>age</th>\n",
       "      <th>gender</th>\n",
       "      <th>race</th>\n",
       "      <th>city</th>\n",
       "      <th>state</th>\n",
       "      <th>signs_of_mental_illness</th>\n",
       "      <th>threat_level</th>\n",
       "      <th>flee</th>\n",
       "      <th>body_camera</th>\n",
       "      <th>year</th>\n",
       "      <th>month</th>\n",
       "      <th>weekday</th>\n",
       "    </tr>\n",
       "  </thead>\n",
       "  <tbody>\n",
       "    <tr>\n",
       "      <th>0</th>\n",
       "      <td>3</td>\n",
       "      <td>TIM ELLIOT</td>\n",
       "      <td>2015-01-02</td>\n",
       "      <td>SHOT</td>\n",
       "      <td>GUN</td>\n",
       "      <td>53.0</td>\n",
       "      <td>M</td>\n",
       "      <td>A</td>\n",
       "      <td>SHELTON</td>\n",
       "      <td>WA</td>\n",
       "      <td>True</td>\n",
       "      <td>ATTACK</td>\n",
       "      <td>NOT FLEEING</td>\n",
       "      <td>False</td>\n",
       "      <td>2015</td>\n",
       "      <td>1</td>\n",
       "      <td>FRIDAY</td>\n",
       "    </tr>\n",
       "    <tr>\n",
       "      <th>1</th>\n",
       "      <td>4</td>\n",
       "      <td>LEWIS LEE LEMBKE</td>\n",
       "      <td>2015-01-02</td>\n",
       "      <td>SHOT</td>\n",
       "      <td>GUN</td>\n",
       "      <td>47.0</td>\n",
       "      <td>M</td>\n",
       "      <td>W</td>\n",
       "      <td>ALOHA</td>\n",
       "      <td>OR</td>\n",
       "      <td>False</td>\n",
       "      <td>ATTACK</td>\n",
       "      <td>NOT FLEEING</td>\n",
       "      <td>False</td>\n",
       "      <td>2015</td>\n",
       "      <td>1</td>\n",
       "      <td>FRIDAY</td>\n",
       "    </tr>\n",
       "    <tr>\n",
       "      <th>2</th>\n",
       "      <td>5</td>\n",
       "      <td>JOHN PAUL QUINTERO</td>\n",
       "      <td>2015-01-03</td>\n",
       "      <td>SHOT AND TASERED</td>\n",
       "      <td>UNARMED</td>\n",
       "      <td>23.0</td>\n",
       "      <td>M</td>\n",
       "      <td>H</td>\n",
       "      <td>WICHITA</td>\n",
       "      <td>KS</td>\n",
       "      <td>False</td>\n",
       "      <td>OTHER</td>\n",
       "      <td>NOT FLEEING</td>\n",
       "      <td>False</td>\n",
       "      <td>2015</td>\n",
       "      <td>1</td>\n",
       "      <td>SATURDAY</td>\n",
       "    </tr>\n",
       "    <tr>\n",
       "      <th>3</th>\n",
       "      <td>8</td>\n",
       "      <td>MATTHEW HOFFMAN</td>\n",
       "      <td>2015-01-04</td>\n",
       "      <td>SHOT</td>\n",
       "      <td>TOY WEAPON</td>\n",
       "      <td>32.0</td>\n",
       "      <td>M</td>\n",
       "      <td>W</td>\n",
       "      <td>SAN FRANCISCO</td>\n",
       "      <td>CA</td>\n",
       "      <td>True</td>\n",
       "      <td>ATTACK</td>\n",
       "      <td>NOT FLEEING</td>\n",
       "      <td>False</td>\n",
       "      <td>2015</td>\n",
       "      <td>1</td>\n",
       "      <td>SUNDAY</td>\n",
       "    </tr>\n",
       "    <tr>\n",
       "      <th>4</th>\n",
       "      <td>9</td>\n",
       "      <td>MICHAEL RODRIGUEZ</td>\n",
       "      <td>2015-01-04</td>\n",
       "      <td>SHOT</td>\n",
       "      <td>NAIL GUN</td>\n",
       "      <td>39.0</td>\n",
       "      <td>M</td>\n",
       "      <td>H</td>\n",
       "      <td>EVANS</td>\n",
       "      <td>CO</td>\n",
       "      <td>False</td>\n",
       "      <td>ATTACK</td>\n",
       "      <td>NOT FLEEING</td>\n",
       "      <td>False</td>\n",
       "      <td>2015</td>\n",
       "      <td>1</td>\n",
       "      <td>SUNDAY</td>\n",
       "    </tr>\n",
       "  </tbody>\n",
       "</table>\n",
       "</div>"
      ],
      "text/plain": [
       "   id                name       date   manner_of_death       armed   age  \\\n",
       "0   3          TIM ELLIOT 2015-01-02              SHOT         GUN  53.0   \n",
       "1   4    LEWIS LEE LEMBKE 2015-01-02              SHOT         GUN  47.0   \n",
       "2   5  JOHN PAUL QUINTERO 2015-01-03  SHOT AND TASERED     UNARMED  23.0   \n",
       "3   8     MATTHEW HOFFMAN 2015-01-04              SHOT  TOY WEAPON  32.0   \n",
       "4   9   MICHAEL RODRIGUEZ 2015-01-04              SHOT    NAIL GUN  39.0   \n",
       "\n",
       "  gender race           city state  signs_of_mental_illness threat_level  \\\n",
       "0      M    A        SHELTON    WA                     True       ATTACK   \n",
       "1      M    W          ALOHA    OR                    False       ATTACK   \n",
       "2      M    H        WICHITA    KS                    False        OTHER   \n",
       "3      M    W  SAN FRANCISCO    CA                     True       ATTACK   \n",
       "4      M    H          EVANS    CO                    False       ATTACK   \n",
       "\n",
       "          flee  body_camera  year  month   weekday  \n",
       "0  NOT FLEEING        False  2015      1    FRIDAY  \n",
       "1  NOT FLEEING        False  2015      1    FRIDAY  \n",
       "2  NOT FLEEING        False  2015      1  SATURDAY  \n",
       "3  NOT FLEEING        False  2015      1    SUNDAY  \n",
       "4  NOT FLEEING        False  2015      1    SUNDAY  "
      ]
     },
     "execution_count": 13,
     "metadata": {},
     "output_type": "execute_result"
    }
   ],
   "source": [
    "df.head()"
   ]
  },
  {
   "cell_type": "code",
   "execution_count": 14,
   "id": "740068d2-ead6-451c-956f-634c76c04432",
   "metadata": {},
   "outputs": [
    {
     "data": {
      "text/html": [
       "<div>\n",
       "<style scoped>\n",
       "    .dataframe tbody tr th:only-of-type {\n",
       "        vertical-align: middle;\n",
       "    }\n",
       "\n",
       "    .dataframe tbody tr th {\n",
       "        vertical-align: top;\n",
       "    }\n",
       "\n",
       "    .dataframe thead th {\n",
       "        text-align: right;\n",
       "    }\n",
       "</style>\n",
       "<table border=\"1\" class=\"dataframe\">\n",
       "  <thead>\n",
       "    <tr style=\"text-align: right;\">\n",
       "      <th></th>\n",
       "      <th>id</th>\n",
       "      <th>name</th>\n",
       "      <th>date</th>\n",
       "      <th>manner_of_death</th>\n",
       "      <th>armed</th>\n",
       "      <th>age</th>\n",
       "      <th>gender</th>\n",
       "      <th>race</th>\n",
       "      <th>city</th>\n",
       "      <th>state</th>\n",
       "      <th>signs_of_mental_illness</th>\n",
       "      <th>threat_level</th>\n",
       "      <th>flee</th>\n",
       "      <th>body_camera</th>\n",
       "      <th>year</th>\n",
       "      <th>month</th>\n",
       "      <th>weekday</th>\n",
       "    </tr>\n",
       "  </thead>\n",
       "  <tbody>\n",
       "  </tbody>\n",
       "</table>\n",
       "</div>"
      ],
      "text/plain": [
       "Empty DataFrame\n",
       "Columns: [id, name, date, manner_of_death, armed, age, gender, race, city, state, signs_of_mental_illness, threat_level, flee, body_camera, year, month, weekday]\n",
       "Index: []"
      ]
     },
     "execution_count": 14,
     "metadata": {},
     "output_type": "execute_result"
    }
   ],
   "source": [
    "# lets see if we have any duplicates \n",
    "df[df.duplicated()]\n",
    "\n",
    "# if we did have obvious ones .. df = df.drop_duplicates()\n"
   ]
  },
  {
   "cell_type": "code",
   "execution_count": 15,
   "id": "1a80e651-f572-46cc-ac0e-bd0159e00e11",
   "metadata": {},
   "outputs": [
    {
     "data": {
      "text/html": [
       "<div>\n",
       "<style scoped>\n",
       "    .dataframe tbody tr th:only-of-type {\n",
       "        vertical-align: middle;\n",
       "    }\n",
       "\n",
       "    .dataframe tbody tr th {\n",
       "        vertical-align: top;\n",
       "    }\n",
       "\n",
       "    .dataframe thead th {\n",
       "        text-align: right;\n",
       "    }\n",
       "</style>\n",
       "<table border=\"1\" class=\"dataframe\">\n",
       "  <thead>\n",
       "    <tr style=\"text-align: right;\">\n",
       "      <th></th>\n",
       "      <th>id</th>\n",
       "      <th>date</th>\n",
       "      <th>age</th>\n",
       "      <th>year</th>\n",
       "      <th>month</th>\n",
       "    </tr>\n",
       "  </thead>\n",
       "  <tbody>\n",
       "    <tr>\n",
       "      <th>count</th>\n",
       "      <td>5416.000000</td>\n",
       "      <td>5416</td>\n",
       "      <td>5416.000000</td>\n",
       "      <td>5416.000000</td>\n",
       "      <td>5416.000000</td>\n",
       "    </tr>\n",
       "    <tr>\n",
       "      <th>mean</th>\n",
       "      <td>3010.398264</td>\n",
       "      <td>2017-09-28 07:28:00.354505216</td>\n",
       "      <td>35.463996</td>\n",
       "      <td>2017.274742</td>\n",
       "      <td>6.144018</td>\n",
       "    </tr>\n",
       "    <tr>\n",
       "      <th>min</th>\n",
       "      <td>3.000000</td>\n",
       "      <td>2015-01-02 00:00:00</td>\n",
       "      <td>-1.000000</td>\n",
       "      <td>2015.000000</td>\n",
       "      <td>1.000000</td>\n",
       "    </tr>\n",
       "    <tr>\n",
       "      <th>25%</th>\n",
       "      <td>1545.750000</td>\n",
       "      <td>2016-05-13 18:00:00</td>\n",
       "      <td>26.000000</td>\n",
       "      <td>2016.000000</td>\n",
       "      <td>3.000000</td>\n",
       "    </tr>\n",
       "    <tr>\n",
       "      <th>50%</th>\n",
       "      <td>3009.500000</td>\n",
       "      <td>2017-10-04 12:00:00</td>\n",
       "      <td>34.000000</td>\n",
       "      <td>2017.000000</td>\n",
       "      <td>6.000000</td>\n",
       "    </tr>\n",
       "    <tr>\n",
       "      <th>75%</th>\n",
       "      <td>4486.250000</td>\n",
       "      <td>2019-02-12 06:00:00</td>\n",
       "      <td>45.000000</td>\n",
       "      <td>2019.000000</td>\n",
       "      <td>9.000000</td>\n",
       "    </tr>\n",
       "    <tr>\n",
       "      <th>max</th>\n",
       "      <td>5927.000000</td>\n",
       "      <td>2020-06-16 00:00:00</td>\n",
       "      <td>91.000000</td>\n",
       "      <td>2020.000000</td>\n",
       "      <td>12.000000</td>\n",
       "    </tr>\n",
       "    <tr>\n",
       "      <th>std</th>\n",
       "      <td>1695.786456</td>\n",
       "      <td>NaN</td>\n",
       "      <td>14.996244</td>\n",
       "      <td>1.599699</td>\n",
       "      <td>3.473090</td>\n",
       "    </tr>\n",
       "  </tbody>\n",
       "</table>\n",
       "</div>"
      ],
      "text/plain": [
       "                id                           date          age         year  \\\n",
       "count  5416.000000                           5416  5416.000000  5416.000000   \n",
       "mean   3010.398264  2017-09-28 07:28:00.354505216    35.463996  2017.274742   \n",
       "min       3.000000            2015-01-02 00:00:00    -1.000000  2015.000000   \n",
       "25%    1545.750000            2016-05-13 18:00:00    26.000000  2016.000000   \n",
       "50%    3009.500000            2017-10-04 12:00:00    34.000000  2017.000000   \n",
       "75%    4486.250000            2019-02-12 06:00:00    45.000000  2019.000000   \n",
       "max    5927.000000            2020-06-16 00:00:00    91.000000  2020.000000   \n",
       "std    1695.786456                            NaN    14.996244     1.599699   \n",
       "\n",
       "             month  \n",
       "count  5416.000000  \n",
       "mean      6.144018  \n",
       "min       1.000000  \n",
       "25%       3.000000  \n",
       "50%       6.000000  \n",
       "75%       9.000000  \n",
       "max      12.000000  \n",
       "std       3.473090  "
      ]
     },
     "execution_count": 15,
     "metadata": {},
     "output_type": "execute_result"
    }
   ],
   "source": [
    "# lets check for outliers \n",
    "\n",
    "df.describe()\n",
    "\n",
    "#Standard Deviation = how spread out the ages are from the mean.\n",
    "# age: std = 14.9 means most ages are within 14 years of the average above and beolow"
   ]
  },
  {
   "cell_type": "code",
   "execution_count": 16,
   "id": "88512fbc-bc9f-4b96-9145-5a4f711698d5",
   "metadata": {},
   "outputs": [
    {
     "name": "stdout",
     "output_type": "stream",
     "text": [
      "Min age: -1.0\n",
      "Max age: 91.0\n"
     ]
    },
    {
     "data": {
      "text/html": [
       "<div>\n",
       "<style scoped>\n",
       "    .dataframe tbody tr th:only-of-type {\n",
       "        vertical-align: middle;\n",
       "    }\n",
       "\n",
       "    .dataframe tbody tr th {\n",
       "        vertical-align: top;\n",
       "    }\n",
       "\n",
       "    .dataframe thead th {\n",
       "        text-align: right;\n",
       "    }\n",
       "</style>\n",
       "<table border=\"1\" class=\"dataframe\">\n",
       "  <thead>\n",
       "    <tr style=\"text-align: right;\">\n",
       "      <th></th>\n",
       "      <th>id</th>\n",
       "      <th>name</th>\n",
       "      <th>date</th>\n",
       "      <th>manner_of_death</th>\n",
       "      <th>armed</th>\n",
       "      <th>age</th>\n",
       "      <th>gender</th>\n",
       "      <th>race</th>\n",
       "      <th>city</th>\n",
       "      <th>state</th>\n",
       "      <th>signs_of_mental_illness</th>\n",
       "      <th>threat_level</th>\n",
       "      <th>flee</th>\n",
       "      <th>body_camera</th>\n",
       "      <th>year</th>\n",
       "      <th>month</th>\n",
       "      <th>weekday</th>\n",
       "    </tr>\n",
       "  </thead>\n",
       "  <tbody>\n",
       "    <tr>\n",
       "      <th>127</th>\n",
       "      <td>584</td>\n",
       "      <td>ALEJANDRO SALAZAR</td>\n",
       "      <td>2015-02-20</td>\n",
       "      <td>SHOT</td>\n",
       "      <td>GUN</td>\n",
       "      <td>-1.0</td>\n",
       "      <td>M</td>\n",
       "      <td>H</td>\n",
       "      <td>HOUSTON</td>\n",
       "      <td>TX</td>\n",
       "      <td>False</td>\n",
       "      <td>ATTACK</td>\n",
       "      <td>CAR</td>\n",
       "      <td>False</td>\n",
       "      <td>2015</td>\n",
       "      <td>2</td>\n",
       "      <td>FRIDAY</td>\n",
       "    </tr>\n",
       "    <tr>\n",
       "      <th>658</th>\n",
       "      <td>789</td>\n",
       "      <td>ROGER ALBRECHT</td>\n",
       "      <td>2015-08-29</td>\n",
       "      <td>SHOT</td>\n",
       "      <td>KNIFE</td>\n",
       "      <td>-1.0</td>\n",
       "      <td>M</td>\n",
       "      <td>W</td>\n",
       "      <td>SAN ANTONIO</td>\n",
       "      <td>TX</td>\n",
       "      <td>False</td>\n",
       "      <td>OTHER</td>\n",
       "      <td>NOT FLEEING</td>\n",
       "      <td>False</td>\n",
       "      <td>2015</td>\n",
       "      <td>8</td>\n",
       "      <td>SATURDAY</td>\n",
       "    </tr>\n",
       "    <tr>\n",
       "      <th>707</th>\n",
       "      <td>839</td>\n",
       "      <td>LAWRENCE PRICE</td>\n",
       "      <td>2015-09-17</td>\n",
       "      <td>SHOT</td>\n",
       "      <td>GUN</td>\n",
       "      <td>-1.0</td>\n",
       "      <td>M</td>\n",
       "      <td>W</td>\n",
       "      <td>BRODHEAD</td>\n",
       "      <td>KY</td>\n",
       "      <td>False</td>\n",
       "      <td>ATTACK</td>\n",
       "      <td>NOT FLEEING</td>\n",
       "      <td>False</td>\n",
       "      <td>2015</td>\n",
       "      <td>9</td>\n",
       "      <td>THURSDAY</td>\n",
       "    </tr>\n",
       "    <tr>\n",
       "      <th>769</th>\n",
       "      <td>908</td>\n",
       "      <td>JASON DAY</td>\n",
       "      <td>2015-10-12</td>\n",
       "      <td>SHOT</td>\n",
       "      <td>GUN</td>\n",
       "      <td>-1.0</td>\n",
       "      <td>M</td>\n",
       "      <td>B</td>\n",
       "      <td>LAWTON</td>\n",
       "      <td>OK</td>\n",
       "      <td>False</td>\n",
       "      <td>ATTACK</td>\n",
       "      <td>NOT FLEEING</td>\n",
       "      <td>False</td>\n",
       "      <td>2015</td>\n",
       "      <td>10</td>\n",
       "      <td>MONDAY</td>\n",
       "    </tr>\n",
       "    <tr>\n",
       "      <th>809</th>\n",
       "      <td>1283</td>\n",
       "      <td>JOHN TOZZI</td>\n",
       "      <td>2015-10-24</td>\n",
       "      <td>SHOT</td>\n",
       "      <td>GUN</td>\n",
       "      <td>-1.0</td>\n",
       "      <td>M</td>\n",
       "      <td>UNKNOWN</td>\n",
       "      <td>NEW PALTZ</td>\n",
       "      <td>NY</td>\n",
       "      <td>False</td>\n",
       "      <td>ATTACK</td>\n",
       "      <td>NOT FLEEING</td>\n",
       "      <td>False</td>\n",
       "      <td>2015</td>\n",
       "      <td>10</td>\n",
       "      <td>SATURDAY</td>\n",
       "    </tr>\n",
       "    <tr>\n",
       "      <th>...</th>\n",
       "      <td>...</td>\n",
       "      <td>...</td>\n",
       "      <td>...</td>\n",
       "      <td>...</td>\n",
       "      <td>...</td>\n",
       "      <td>...</td>\n",
       "      <td>...</td>\n",
       "      <td>...</td>\n",
       "      <td>...</td>\n",
       "      <td>...</td>\n",
       "      <td>...</td>\n",
       "      <td>...</td>\n",
       "      <td>...</td>\n",
       "      <td>...</td>\n",
       "      <td>...</td>\n",
       "      <td>...</td>\n",
       "      <td>...</td>\n",
       "    </tr>\n",
       "    <tr>\n",
       "      <th>5373</th>\n",
       "      <td>5880</td>\n",
       "      <td>TK TK</td>\n",
       "      <td>2020-05-28</td>\n",
       "      <td>SHOT</td>\n",
       "      <td>CROWBAR</td>\n",
       "      <td>-1.0</td>\n",
       "      <td>M</td>\n",
       "      <td>UNKNOWN</td>\n",
       "      <td>FONTANA</td>\n",
       "      <td>CA</td>\n",
       "      <td>False</td>\n",
       "      <td>ATTACK</td>\n",
       "      <td>NOT FLEEING</td>\n",
       "      <td>False</td>\n",
       "      <td>2020</td>\n",
       "      <td>5</td>\n",
       "      <td>THURSDAY</td>\n",
       "    </tr>\n",
       "    <tr>\n",
       "      <th>5375</th>\n",
       "      <td>5851</td>\n",
       "      <td>TK TK</td>\n",
       "      <td>2020-05-28</td>\n",
       "      <td>SHOT AND TASERED</td>\n",
       "      <td>KNIFE</td>\n",
       "      <td>-1.0</td>\n",
       "      <td>M</td>\n",
       "      <td>UNKNOWN</td>\n",
       "      <td>WASHINGTON COUNTY</td>\n",
       "      <td>OR</td>\n",
       "      <td>False</td>\n",
       "      <td>OTHER</td>\n",
       "      <td>NOT FLEEING</td>\n",
       "      <td>True</td>\n",
       "      <td>2020</td>\n",
       "      <td>5</td>\n",
       "      <td>THURSDAY</td>\n",
       "    </tr>\n",
       "    <tr>\n",
       "      <th>5377</th>\n",
       "      <td>5845</td>\n",
       "      <td>TK TK</td>\n",
       "      <td>2020-05-29</td>\n",
       "      <td>SHOT</td>\n",
       "      <td>TOY WEAPON</td>\n",
       "      <td>-1.0</td>\n",
       "      <td>M</td>\n",
       "      <td>W</td>\n",
       "      <td>LANCASTER</td>\n",
       "      <td>CA</td>\n",
       "      <td>False</td>\n",
       "      <td>ATTACK</td>\n",
       "      <td>UNKNOWN</td>\n",
       "      <td>False</td>\n",
       "      <td>2020</td>\n",
       "      <td>5</td>\n",
       "      <td>FRIDAY</td>\n",
       "    </tr>\n",
       "    <tr>\n",
       "      <th>5379</th>\n",
       "      <td>5849</td>\n",
       "      <td>TK TK</td>\n",
       "      <td>2020-05-29</td>\n",
       "      <td>SHOT</td>\n",
       "      <td>KNIFE</td>\n",
       "      <td>-1.0</td>\n",
       "      <td>M</td>\n",
       "      <td>UNKNOWN</td>\n",
       "      <td>PHILADELPHIA</td>\n",
       "      <td>PA</td>\n",
       "      <td>False</td>\n",
       "      <td>OTHER</td>\n",
       "      <td>NOT FLEEING</td>\n",
       "      <td>False</td>\n",
       "      <td>2020</td>\n",
       "      <td>5</td>\n",
       "      <td>FRIDAY</td>\n",
       "    </tr>\n",
       "    <tr>\n",
       "      <th>5412</th>\n",
       "      <td>5922</td>\n",
       "      <td>TK TK</td>\n",
       "      <td>2020-06-13</td>\n",
       "      <td>SHOT</td>\n",
       "      <td>UNDETERMINED</td>\n",
       "      <td>-1.0</td>\n",
       "      <td>M</td>\n",
       "      <td>UNKNOWN</td>\n",
       "      <td>SAN BERNARDINO</td>\n",
       "      <td>CA</td>\n",
       "      <td>False</td>\n",
       "      <td>ATTACK</td>\n",
       "      <td>NOT FLEEING</td>\n",
       "      <td>False</td>\n",
       "      <td>2020</td>\n",
       "      <td>6</td>\n",
       "      <td>SATURDAY</td>\n",
       "    </tr>\n",
       "  </tbody>\n",
       "</table>\n",
       "<p>235 rows × 17 columns</p>\n",
       "</div>"
      ],
      "text/plain": [
       "        id               name       date   manner_of_death         armed  age  \\\n",
       "127    584  ALEJANDRO SALAZAR 2015-02-20              SHOT           GUN -1.0   \n",
       "658    789     ROGER ALBRECHT 2015-08-29              SHOT         KNIFE -1.0   \n",
       "707    839     LAWRENCE PRICE 2015-09-17              SHOT           GUN -1.0   \n",
       "769    908          JASON DAY 2015-10-12              SHOT           GUN -1.0   \n",
       "809   1283         JOHN TOZZI 2015-10-24              SHOT           GUN -1.0   \n",
       "...    ...                ...        ...               ...           ...  ...   \n",
       "5373  5880              TK TK 2020-05-28              SHOT       CROWBAR -1.0   \n",
       "5375  5851              TK TK 2020-05-28  SHOT AND TASERED         KNIFE -1.0   \n",
       "5377  5845              TK TK 2020-05-29              SHOT    TOY WEAPON -1.0   \n",
       "5379  5849              TK TK 2020-05-29              SHOT         KNIFE -1.0   \n",
       "5412  5922              TK TK 2020-06-13              SHOT  UNDETERMINED -1.0   \n",
       "\n",
       "     gender     race               city state  signs_of_mental_illness  \\\n",
       "127       M        H            HOUSTON    TX                    False   \n",
       "658       M        W        SAN ANTONIO    TX                    False   \n",
       "707       M        W           BRODHEAD    KY                    False   \n",
       "769       M        B             LAWTON    OK                    False   \n",
       "809       M  UNKNOWN          NEW PALTZ    NY                    False   \n",
       "...     ...      ...                ...   ...                      ...   \n",
       "5373      M  UNKNOWN            FONTANA    CA                    False   \n",
       "5375      M  UNKNOWN  WASHINGTON COUNTY    OR                    False   \n",
       "5377      M        W          LANCASTER    CA                    False   \n",
       "5379      M  UNKNOWN       PHILADELPHIA    PA                    False   \n",
       "5412      M  UNKNOWN     SAN BERNARDINO    CA                    False   \n",
       "\n",
       "     threat_level         flee  body_camera  year  month   weekday  \n",
       "127        ATTACK          CAR        False  2015      2    FRIDAY  \n",
       "658         OTHER  NOT FLEEING        False  2015      8  SATURDAY  \n",
       "707        ATTACK  NOT FLEEING        False  2015      9  THURSDAY  \n",
       "769        ATTACK  NOT FLEEING        False  2015     10    MONDAY  \n",
       "809        ATTACK  NOT FLEEING        False  2015     10  SATURDAY  \n",
       "...           ...          ...          ...   ...    ...       ...  \n",
       "5373       ATTACK  NOT FLEEING        False  2020      5  THURSDAY  \n",
       "5375        OTHER  NOT FLEEING         True  2020      5  THURSDAY  \n",
       "5377       ATTACK      UNKNOWN        False  2020      5    FRIDAY  \n",
       "5379        OTHER  NOT FLEEING        False  2020      5    FRIDAY  \n",
       "5412       ATTACK  NOT FLEEING        False  2020      6  SATURDAY  \n",
       "\n",
       "[235 rows x 17 columns]"
      ]
     },
     "execution_count": 16,
     "metadata": {},
     "output_type": "execute_result"
    }
   ],
   "source": [
    "print(\"Min age:\", df['age'].min())\n",
    "print(\"Max age:\", df['age'].max())\n",
    "\n",
    "# Look at any rows with super young or super old values\n",
    "df[df['age'] > 100]  # unusually old\n",
    "df[df['age'] < 0]    # invalid\n",
    "#min age is unknown"
   ]
  },
  {
   "cell_type": "code",
   "execution_count": 17,
   "id": "3bacf475-ed63-48c7-b0b5-aeeaf437ab58",
   "metadata": {},
   "outputs": [],
   "source": [
    "df['age'] = df['age'].replace(-1, np.nan)\n",
    "#saying where u see -1, put NaN instead bc -1 might confuse people"
   ]
  },
  {
   "cell_type": "code",
   "execution_count": 18,
   "id": "897604b9-e5c9-4b21-b653-c303a5e0494b",
   "metadata": {},
   "outputs": [
    {
     "data": {
      "text/plain": [
       "count    5181.000000\n",
       "mean       37.117931\n",
       "std        13.116135\n",
       "min         6.000000\n",
       "25%        27.000000\n",
       "50%        35.000000\n",
       "75%        46.000000\n",
       "max        91.000000\n",
       "Name: age, dtype: float64"
      ]
     },
     "execution_count": 18,
     "metadata": {},
     "output_type": "execute_result"
    }
   ],
   "source": [
    "df[\"age\"].describe()"
   ]
  },
  {
   "cell_type": "code",
   "execution_count": 19,
   "id": "f82d8a2d-aca3-42b7-998c-8b8e8a05078c",
   "metadata": {},
   "outputs": [
    {
     "data": {
      "image/png": "[encoded data removed]",
      "text/plain": [
       "<Figure size 640x480 with 1 Axes>"
      ]
     },
     "metadata": {},
     "output_type": "display_data"
    }
   ],
   "source": [
    "# lets see outliers plotted \n",
    "\n",
    "sns.boxplot(x=df['age'])\n",
    "plt.title('Age Distribution')\n",
    "plt.show()\n",
    "\n",
    "\n",
    "# blue box = Middle 50% of the data falls withing there \n",
    "# line = median age \n",
    "# circle are the outliers \n",
    "#There's a bunch of outliers past age 70–80+"
   ]
  },
  {
   "cell_type": "code",
   "execution_count": 20,
   "id": "342dee5a-fae7-4a2d-aa20-d9a7f8a2e654",
   "metadata": {},
   "outputs": [
    {
     "data": {
      "image/png": "[encoded data removed]",
      "text/plain": [
       "<Figure size 640x480 with 1 Axes>"
      ]
     },
     "metadata": {},
     "output_type": "display_data"
    }
   ],
   "source": [
    "sns.histplot(df['age'], bins=30)\n",
    "plt.title('Histogram of Age')\n",
    "plt.show()\n",
    "#shows it in a different way"
   ]
  },
  {
   "cell_type": "code",
   "execution_count": 21,
   "id": "8d90dfde-f7e0-427b-b0ea-509f6a3eacd9",
   "metadata": {},
   "outputs": [
    {
     "data": {
      "text/plain": [
       "Index(['id', 'age'], dtype='object')"
      ]
     },
     "execution_count": 21,
     "metadata": {},
     "output_type": "execute_result"
    }
   ],
   "source": [
    "df.select_dtypes(include=['float64', 'int64']).columns\n"
   ]
  },
  {
   "cell_type": "markdown",
   "id": "16d0669e-5a17-4fb6-b917-c5c7696b79da",
   "metadata": {},
   "source": [
    "EDA Done"
   ]
  },
  {
   "cell_type": "markdown",
   "id": "8fd702ba-c69a-470a-ac13-bbd5147a619b",
   "metadata": {},
   "source": [
    "# Ask and Answer Real-World Questions"
   ]
  },
  {
   "cell_type": "markdown",
   "id": "dec8a16a-eeb3-45a3-acc0-9e838efae8a2",
   "metadata": {},
   "source": [
    "Category\tSample Questions\n",
    "- Demographics:\tWhat is the most impacted race or gender?\n",
    "- Mental Health: How common are mental illness indicators?\n",
    "- Weapons:\tWere most people armed or unarmed?\n",
    "- Threat/Force:\tDoes threat level affect body camera use?\n",
    "- Flight:\tAre fleeing individuals more likely to be shot unarmed?"
   ]
  },
  {
   "cell_type": "markdown",
   "id": "f416cd0a-5d84-4c25-a219-43db61fb6be2",
   "metadata": {},
   "source": [
    "# Question 1: How many shootings occurred each year?"
   ]
  },
  {
   "cell_type": "code",
   "execution_count": 22,
   "id": "548c42e5-4ec2-4053-a6d3-937567a85454",
   "metadata": {},
   "outputs": [
    {
     "name": "stdout",
     "output_type": "stream",
     "text": [
      "year\n",
      "2015     994\n",
      "2016     962\n",
      "2017     986\n",
      "2018     991\n",
      "2019    1002\n",
      "2020     481\n",
      "Name: count, dtype: int64\n"
     ]
    },
    {
     "data": {
      "image/png": "[encoded data removed]",
      "text/plain": [
       "<Figure size 1000x600 with 1 Axes>"
      ]
     },
     "metadata": {},
     "output_type": "display_data"
    }
   ],
   "source": [
    "\n",
    "yearly_counts = df['year'].value_counts().sort_index()\n",
    "\n",
    "#  Display the counts\n",
    "print(yearly_counts)\n",
    "\n",
    "# Plot the yearly trend\n",
    "plt.figure(figsize=(10, 6))\n",
    "sns.barplot(x=yearly_counts.index, y=yearly_counts.values, color='steelblue')\n",
    "\n",
    "plt.title('Number of Police Shootings per Year')\n",
    "plt.xlabel('Year')\n",
    "plt.ylabel('Number of Shootings')\n",
    "plt.grid(axis='y', linestyle='--', alpha=0.5)\n",
    "plt.tight_layout()\n",
    "plt.show()\n"
   ]
  },
  {
   "cell_type": "code",
   "execution_count": 23,
   "id": "b466ebf1-1065-430e-b8fd-c90ec84ebdbf",
   "metadata": {},
   "outputs": [
    {
     "data": {
      "text/plain": [
       "year\n",
       "2019    1002\n",
       "2015     994\n",
       "2018     991\n",
       "2017     986\n",
       "2016     962\n",
       "2020     481\n",
       "Name: count, dtype: int64"
      ]
     },
     "execution_count": 23,
     "metadata": {},
     "output_type": "execute_result"
    }
   ],
   "source": [
    "yearly_counts = df['year'].value_counts()\n",
    "yearly_counts\n"
   ]
  },
  {
   "cell_type": "markdown",
   "id": "53ecce06-67a7-4fc7-bf25-b272ca034abb",
   "metadata": {},
   "source": [
    "BLUF: 2019 had the highest number of police shootings, with 1,002 incidents, followed by 2015 (994).\n",
    "2016 showed a slight drop (962), but the numbers increased again in 2017 and 2018 before peaking in 2019.\n",
    "2020 had a sharp drop to 481, likely influenced by the COVID-19 pandemic and changes in police activity."
   ]
  },
  {
   "cell_type": "markdown",
   "id": "a7f74060-a079-4bb6-bb31-7f12976daef7",
   "metadata": {},
   "source": [
    "# Demographics: What is the most impacted race or gender?"
   ]
  },
  {
   "cell_type": "code",
   "execution_count": 24,
   "id": "41e8b40f-199b-4e89-976d-afdb0cdf545b",
   "metadata": {},
   "outputs": [
    {
     "data": {
      "text/plain": [
       "gender\n",
       "M          5176\n",
       "F           238\n",
       "UNKNOWN       2\n",
       "Name: count, dtype: int64"
      ]
     },
     "execution_count": 24,
     "metadata": {},
     "output_type": "execute_result"
    }
   ],
   "source": [
    "# Total by gender\n",
    "df['gender'].value_counts()\n",
    "\n",
    "\n"
   ]
  },
  {
   "cell_type": "code",
   "execution_count": 25,
   "id": "c60321eb-4160-4daa-82b1-bb8388ba3aa8",
   "metadata": {},
   "outputs": [
    {
     "data": {
      "text/plain": [
       "gender\n",
       "M          95.57\n",
       "F           4.39\n",
       "UNKNOWN     0.04\n",
       "Name: proportion, dtype: float64"
      ]
     },
     "execution_count": 25,
     "metadata": {},
     "output_type": "execute_result"
    }
   ],
   "source": [
    "(df['gender'].value_counts(normalize=True) * 100).round(2)\n",
    "\n",
    "#give me the percentage "
   ]
  },
  {
   "cell_type": "code",
   "execution_count": 26,
   "id": "acee6c65-a11b-4fbf-938a-83b1301d6478",
   "metadata": {},
   "outputs": [
    {
     "data": {
      "text/plain": [
       "race\n",
       "W          2476\n",
       "B          1298\n",
       "H           902\n",
       "UNKNOWN     521\n",
       "A            93\n",
       "N            78\n",
       "O            48\n",
       "Name: count, dtype: int64"
      ]
     },
     "execution_count": 26,
     "metadata": {},
     "output_type": "execute_result"
    }
   ],
   "source": [
    "# Total by race\n",
    "df['race'].value_counts()"
   ]
  },
  {
   "cell_type": "code",
   "execution_count": 27,
   "id": "fa14dc11-9344-47b5-bf95-a728b8603d1f",
   "metadata": {},
   "outputs": [
    {
     "data": {
      "text/plain": [
       "race\n",
       "W          45.72\n",
       "B          23.97\n",
       "H          16.65\n",
       "UNKNOWN     9.62\n",
       "A           1.72\n",
       "N           1.44\n",
       "O           0.89\n",
       "Name: proportion, dtype: float64"
      ]
     },
     "execution_count": 27,
     "metadata": {},
     "output_type": "execute_result"
    }
   ],
   "source": [
    "(df['race'].value_counts(normalize=True) * 100).round(2)"
   ]
  },
  {
   "cell_type": "markdown",
   "id": "999851f7-e8fd-45e7-9d13-59cf7e0e3721",
   "metadata": {},
   "source": [
    "# Code\tMeaning\tCount\n",
    "- W\tWhite\t2,476\n",
    "- B\tBlack or African American\t1,298\n",
    "- H\tHispanic or Latino\t902\n",
    "- UNKNOWN\tRace not reported/recorded\t521\n",
    "- A\tAsian\t93\n",
    "- N\tNative American/Alaska Native\t78\n",
    "- O Other (e.g. multiracial/unspecified) 48"
   ]
  },
  {
   "cell_type": "code",
   "execution_count": 28,
   "id": "161461cf-2ef7-4a81-9c03-514382a055a1",
   "metadata": {},
   "outputs": [
    {
     "data": {
      "text/html": [
       "<div>\n",
       "<style scoped>\n",
       "    .dataframe tbody tr th:only-of-type {\n",
       "        vertical-align: middle;\n",
       "    }\n",
       "\n",
       "    .dataframe tbody tr th {\n",
       "        vertical-align: top;\n",
       "    }\n",
       "\n",
       "    .dataframe thead th {\n",
       "        text-align: right;\n",
       "    }\n",
       "</style>\n",
       "<table border=\"1\" class=\"dataframe\">\n",
       "  <thead>\n",
       "    <tr style=\"text-align: right;\">\n",
       "      <th>gender</th>\n",
       "      <th>F</th>\n",
       "      <th>M</th>\n",
       "      <th>UNKNOWN</th>\n",
       "    </tr>\n",
       "    <tr>\n",
       "      <th>race</th>\n",
       "      <th></th>\n",
       "      <th></th>\n",
       "      <th></th>\n",
       "    </tr>\n",
       "  </thead>\n",
       "  <tbody>\n",
       "    <tr>\n",
       "      <th>A</th>\n",
       "      <td>4</td>\n",
       "      <td>89</td>\n",
       "      <td>0</td>\n",
       "    </tr>\n",
       "    <tr>\n",
       "      <th>B</th>\n",
       "      <td>47</td>\n",
       "      <td>1251</td>\n",
       "      <td>0</td>\n",
       "    </tr>\n",
       "    <tr>\n",
       "      <th>H</th>\n",
       "      <td>26</td>\n",
       "      <td>876</td>\n",
       "      <td>0</td>\n",
       "    </tr>\n",
       "    <tr>\n",
       "      <th>N</th>\n",
       "      <td>5</td>\n",
       "      <td>73</td>\n",
       "      <td>0</td>\n",
       "    </tr>\n",
       "    <tr>\n",
       "      <th>O</th>\n",
       "      <td>4</td>\n",
       "      <td>44</td>\n",
       "      <td>0</td>\n",
       "    </tr>\n",
       "    <tr>\n",
       "      <th>UNKNOWN</th>\n",
       "      <td>16</td>\n",
       "      <td>504</td>\n",
       "      <td>1</td>\n",
       "    </tr>\n",
       "    <tr>\n",
       "      <th>W</th>\n",
       "      <td>136</td>\n",
       "      <td>2339</td>\n",
       "      <td>1</td>\n",
       "    </tr>\n",
       "  </tbody>\n",
       "</table>\n",
       "</div>"
      ],
      "text/plain": [
       "gender     F     M  UNKNOWN\n",
       "race                       \n",
       "A          4    89        0\n",
       "B         47  1251        0\n",
       "H         26   876        0\n",
       "N          5    73        0\n",
       "O          4    44        0\n",
       "UNKNOWN   16   504        1\n",
       "W        136  2339        1"
      ]
     },
     "execution_count": 28,
     "metadata": {},
     "output_type": "execute_result"
    }
   ],
   "source": [
    "df.groupby([\"race\", \"gender\"]).size().unstack(fill_value=0)\n",
    "\n",
    "#If some (year, race) combos didn't happen, it'll show up as NaN. fill_value=0 replaces those NaNs with 0s, to keep the math clean.\n",
    "\n",
    "\n"
   ]
  },
  {
   "cell_type": "code",
   "execution_count": 29,
   "id": "389844a9-02c5-44c9-b014-ffae6fbe1d5f",
   "metadata": {},
   "outputs": [
    {
     "data": {
      "image/png": "[encoded data removed]",
      "text/plain": [
       "<Figure size 640x480 with 1 Axes>"
      ]
     },
     "metadata": {},
     "output_type": "display_data"
    }
   ],
   "source": [
    "df[\"race\"].value_counts().plot(kind='bar', title = 'Fata Police Shooting by Race')\n",
    "\n",
    "plt.xlabel('Race')\n",
    "plt.ylabel('Number of Victims')\n",
    "plt.show()\n"
   ]
  },
  {
   "cell_type": "code",
   "execution_count": 30,
   "id": "fe0aab75-714a-4b5f-88f0-8f7bc45bfc5b",
   "metadata": {},
   "outputs": [
    {
     "data": {
      "image/png": "[encoded data removed]",
      "text/plain": [
       "<Figure size 640x480 with 1 Axes>"
      ]
     },
     "metadata": {},
     "output_type": "display_data"
    }
   ],
   "source": [
    "df[\"gender\"].value_counts().plot(kind='bar', title = 'Fata Police Shooting by Gender')\n",
    "\n",
    "plt.xlabel('Gender')\n",
    "plt.ylabel('Number of Victims')\n",
    "plt.show()\n"
   ]
  },
  {
   "cell_type": "markdown",
   "id": "cc81e2fe-2daf-4fb8-9c18-71bce789aa70",
   "metadata": {},
   "source": [
    "Bluf:\n",
    "Based on the dataset, White individuals (W) were involved in the highest number of fatal police shootings overall, followed by Black (B) and Hispanic (H) individuals.\n",
    "\n",
    "However, when comparing across gender, men (M) overwhelmingly account for the majority of victims.\n",
    "\n",
    "A deeper breakdown shows that White males and Black males are the top two most impacted race-gender combinations in terms of raw numbers."
   ]
  },
  {
   "cell_type": "code",
   "execution_count": 31,
   "id": "11e6a982-c640-46d0-959d-b65f6454b257",
   "metadata": {},
   "outputs": [
    {
     "data": {
      "text/html": [
       "<div>\n",
       "<style scoped>\n",
       "    .dataframe tbody tr th:only-of-type {\n",
       "        vertical-align: middle;\n",
       "    }\n",
       "\n",
       "    .dataframe tbody tr th {\n",
       "        vertical-align: top;\n",
       "    }\n",
       "\n",
       "    .dataframe thead th {\n",
       "        text-align: right;\n",
       "    }\n",
       "</style>\n",
       "<table border=\"1\" class=\"dataframe\">\n",
       "  <thead>\n",
       "    <tr style=\"text-align: right;\">\n",
       "      <th></th>\n",
       "      <th>gender</th>\n",
       "      <th>F</th>\n",
       "      <th>M</th>\n",
       "      <th>UNKNOWN</th>\n",
       "    </tr>\n",
       "    <tr>\n",
       "      <th>year</th>\n",
       "      <th>race</th>\n",
       "      <th></th>\n",
       "      <th></th>\n",
       "      <th></th>\n",
       "    </tr>\n",
       "  </thead>\n",
       "  <tbody>\n",
       "    <tr>\n",
       "      <th rowspan=\"7\" valign=\"top\">2015</th>\n",
       "      <th>A</th>\n",
       "      <td>0</td>\n",
       "      <td>14</td>\n",
       "      <td>0</td>\n",
       "    </tr>\n",
       "    <tr>\n",
       "      <th>B</th>\n",
       "      <td>10</td>\n",
       "      <td>248</td>\n",
       "      <td>0</td>\n",
       "    </tr>\n",
       "    <tr>\n",
       "      <th>H</th>\n",
       "      <td>3</td>\n",
       "      <td>169</td>\n",
       "      <td>0</td>\n",
       "    </tr>\n",
       "    <tr>\n",
       "      <th>N</th>\n",
       "      <td>0</td>\n",
       "      <td>9</td>\n",
       "      <td>0</td>\n",
       "    </tr>\n",
       "    <tr>\n",
       "      <th>O</th>\n",
       "      <td>2</td>\n",
       "      <td>13</td>\n",
       "      <td>0</td>\n",
       "    </tr>\n",
       "    <tr>\n",
       "      <th>UNKNOWN</th>\n",
       "      <td>1</td>\n",
       "      <td>28</td>\n",
       "      <td>0</td>\n",
       "    </tr>\n",
       "    <tr>\n",
       "      <th>W</th>\n",
       "      <td>26</td>\n",
       "      <td>471</td>\n",
       "      <td>0</td>\n",
       "    </tr>\n",
       "    <tr>\n",
       "      <th rowspan=\"7\" valign=\"top\">2016</th>\n",
       "      <th>A</th>\n",
       "      <td>0</td>\n",
       "      <td>15</td>\n",
       "      <td>0</td>\n",
       "    </tr>\n",
       "    <tr>\n",
       "      <th>B</th>\n",
       "      <td>11</td>\n",
       "      <td>223</td>\n",
       "      <td>0</td>\n",
       "    </tr>\n",
       "    <tr>\n",
       "      <th>H</th>\n",
       "      <td>1</td>\n",
       "      <td>159</td>\n",
       "      <td>0</td>\n",
       "    </tr>\n",
       "    <tr>\n",
       "      <th>N</th>\n",
       "      <td>5</td>\n",
       "      <td>11</td>\n",
       "      <td>0</td>\n",
       "    </tr>\n",
       "    <tr>\n",
       "      <th>O</th>\n",
       "      <td>0</td>\n",
       "      <td>11</td>\n",
       "      <td>0</td>\n",
       "    </tr>\n",
       "    <tr>\n",
       "      <th>UNKNOWN</th>\n",
       "      <td>2</td>\n",
       "      <td>56</td>\n",
       "      <td>0</td>\n",
       "    </tr>\n",
       "    <tr>\n",
       "      <th>W</th>\n",
       "      <td>21</td>\n",
       "      <td>447</td>\n",
       "      <td>0</td>\n",
       "    </tr>\n",
       "    <tr>\n",
       "      <th rowspan=\"7\" valign=\"top\">2017</th>\n",
       "      <th>A</th>\n",
       "      <td>1</td>\n",
       "      <td>15</td>\n",
       "      <td>0</td>\n",
       "    </tr>\n",
       "    <tr>\n",
       "      <th>B</th>\n",
       "      <td>9</td>\n",
       "      <td>215</td>\n",
       "      <td>0</td>\n",
       "    </tr>\n",
       "    <tr>\n",
       "      <th>H</th>\n",
       "      <td>5</td>\n",
       "      <td>174</td>\n",
       "      <td>0</td>\n",
       "    </tr>\n",
       "    <tr>\n",
       "      <th>N</th>\n",
       "      <td>0</td>\n",
       "      <td>22</td>\n",
       "      <td>0</td>\n",
       "    </tr>\n",
       "    <tr>\n",
       "      <th>O</th>\n",
       "      <td>0</td>\n",
       "      <td>6</td>\n",
       "      <td>0</td>\n",
       "    </tr>\n",
       "    <tr>\n",
       "      <th>UNKNOWN</th>\n",
       "      <td>5</td>\n",
       "      <td>75</td>\n",
       "      <td>0</td>\n",
       "    </tr>\n",
       "    <tr>\n",
       "      <th>W</th>\n",
       "      <td>25</td>\n",
       "      <td>433</td>\n",
       "      <td>1</td>\n",
       "    </tr>\n",
       "    <tr>\n",
       "      <th rowspan=\"7\" valign=\"top\">2018</th>\n",
       "      <th>A</th>\n",
       "      <td>2</td>\n",
       "      <td>19</td>\n",
       "      <td>0</td>\n",
       "    </tr>\n",
       "    <tr>\n",
       "      <th>B</th>\n",
       "      <td>10</td>\n",
       "      <td>219</td>\n",
       "      <td>0</td>\n",
       "    </tr>\n",
       "    <tr>\n",
       "      <th>H</th>\n",
       "      <td>8</td>\n",
       "      <td>157</td>\n",
       "      <td>0</td>\n",
       "    </tr>\n",
       "    <tr>\n",
       "      <th>N</th>\n",
       "      <td>0</td>\n",
       "      <td>15</td>\n",
       "      <td>0</td>\n",
       "    </tr>\n",
       "    <tr>\n",
       "      <th>O</th>\n",
       "      <td>1</td>\n",
       "      <td>3</td>\n",
       "      <td>0</td>\n",
       "    </tr>\n",
       "    <tr>\n",
       "      <th>UNKNOWN</th>\n",
       "      <td>4</td>\n",
       "      <td>99</td>\n",
       "      <td>0</td>\n",
       "    </tr>\n",
       "    <tr>\n",
       "      <th>W</th>\n",
       "      <td>27</td>\n",
       "      <td>427</td>\n",
       "      <td>0</td>\n",
       "    </tr>\n",
       "    <tr>\n",
       "      <th rowspan=\"7\" valign=\"top\">2019</th>\n",
       "      <th>A</th>\n",
       "      <td>1</td>\n",
       "      <td>18</td>\n",
       "      <td>0</td>\n",
       "    </tr>\n",
       "    <tr>\n",
       "      <th>B</th>\n",
       "      <td>6</td>\n",
       "      <td>244</td>\n",
       "      <td>0</td>\n",
       "    </tr>\n",
       "    <tr>\n",
       "      <th>H</th>\n",
       "      <td>7</td>\n",
       "      <td>156</td>\n",
       "      <td>0</td>\n",
       "    </tr>\n",
       "    <tr>\n",
       "      <th>N</th>\n",
       "      <td>0</td>\n",
       "      <td>13</td>\n",
       "      <td>0</td>\n",
       "    </tr>\n",
       "    <tr>\n",
       "      <th>O</th>\n",
       "      <td>0</td>\n",
       "      <td>9</td>\n",
       "      <td>0</td>\n",
       "    </tr>\n",
       "    <tr>\n",
       "      <th>UNKNOWN</th>\n",
       "      <td>3</td>\n",
       "      <td>141</td>\n",
       "      <td>0</td>\n",
       "    </tr>\n",
       "    <tr>\n",
       "      <th>W</th>\n",
       "      <td>26</td>\n",
       "      <td>378</td>\n",
       "      <td>0</td>\n",
       "    </tr>\n",
       "    <tr>\n",
       "      <th rowspan=\"7\" valign=\"top\">2020</th>\n",
       "      <th>A</th>\n",
       "      <td>0</td>\n",
       "      <td>8</td>\n",
       "      <td>0</td>\n",
       "    </tr>\n",
       "    <tr>\n",
       "      <th>B</th>\n",
       "      <td>1</td>\n",
       "      <td>102</td>\n",
       "      <td>0</td>\n",
       "    </tr>\n",
       "    <tr>\n",
       "      <th>H</th>\n",
       "      <td>2</td>\n",
       "      <td>61</td>\n",
       "      <td>0</td>\n",
       "    </tr>\n",
       "    <tr>\n",
       "      <th>N</th>\n",
       "      <td>0</td>\n",
       "      <td>3</td>\n",
       "      <td>0</td>\n",
       "    </tr>\n",
       "    <tr>\n",
       "      <th>O</th>\n",
       "      <td>1</td>\n",
       "      <td>2</td>\n",
       "      <td>0</td>\n",
       "    </tr>\n",
       "    <tr>\n",
       "      <th>UNKNOWN</th>\n",
       "      <td>1</td>\n",
       "      <td>105</td>\n",
       "      <td>1</td>\n",
       "    </tr>\n",
       "    <tr>\n",
       "      <th>W</th>\n",
       "      <td>11</td>\n",
       "      <td>183</td>\n",
       "      <td>0</td>\n",
       "    </tr>\n",
       "  </tbody>\n",
       "</table>\n",
       "</div>"
      ],
      "text/plain": [
       "gender         F    M  UNKNOWN\n",
       "year race                     \n",
       "2015 A         0   14        0\n",
       "     B        10  248        0\n",
       "     H         3  169        0\n",
       "     N         0    9        0\n",
       "     O         2   13        0\n",
       "     UNKNOWN   1   28        0\n",
       "     W        26  471        0\n",
       "2016 A         0   15        0\n",
       "     B        11  223        0\n",
       "     H         1  159        0\n",
       "     N         5   11        0\n",
       "     O         0   11        0\n",
       "     UNKNOWN   2   56        0\n",
       "     W        21  447        0\n",
       "2017 A         1   15        0\n",
       "     B         9  215        0\n",
       "     H         5  174        0\n",
       "     N         0   22        0\n",
       "     O         0    6        0\n",
       "     UNKNOWN   5   75        0\n",
       "     W        25  433        1\n",
       "2018 A         2   19        0\n",
       "     B        10  219        0\n",
       "     H         8  157        0\n",
       "     N         0   15        0\n",
       "     O         1    3        0\n",
       "     UNKNOWN   4   99        0\n",
       "     W        27  427        0\n",
       "2019 A         1   18        0\n",
       "     B         6  244        0\n",
       "     H         7  156        0\n",
       "     N         0   13        0\n",
       "     O         0    9        0\n",
       "     UNKNOWN   3  141        0\n",
       "     W        26  378        0\n",
       "2020 A         0    8        0\n",
       "     B         1  102        0\n",
       "     H         2   61        0\n",
       "     N         0    3        0\n",
       "     O         1    2        0\n",
       "     UNKNOWN   1  105        1\n",
       "     W        11  183        0"
      ]
     },
     "execution_count": 31,
     "metadata": {},
     "output_type": "execute_result"
    }
   ],
   "source": [
    "year_race = df.groupby([\"year\",\"race\",\"gender\"]).size().unstack(fill_value=0)\n",
    "year_race"
   ]
  },
  {
   "cell_type": "code",
   "execution_count": 32,
   "id": "de0f9c40-748b-4092-99c2-9bccadd1ec92",
   "metadata": {},
   "outputs": [
    {
     "data": {
      "image/png": "[encoded data removed]",
      "text/plain": [
       "<Figure size 1200x600 with 1 Axes>"
      ]
     },
     "metadata": {},
     "output_type": "display_data"
    }
   ],
   "source": [
    "# Shootings per year by race\n",
    "year_race = df.groupby(['year', 'race']).size().unstack(fill_value=0)\n",
    "\n",
    "# Plot\n",
    "year_race.plot(kind='bar', stacked=True, figsize=(12, 6), colormap='tab20')\n",
    "plt.title('Fatal Police Shootings per Year by Race')\n",
    "plt.xlabel('Year')\n",
    "plt.ylabel('Number of Shootings')\n",
    "plt.legend(title='Race')\n",
    "plt.tight_layout()\n",
    "plt.show()\n",
    "\n",
    "\n",
    "# You read each segment's height to estimate how many people of that race were shot that year.\n",
    "#so like H had arounf 250, B had around 150 etc"
   ]
  },
  {
   "cell_type": "code",
   "execution_count": 33,
   "id": "19705fbd-22a1-459d-af94-edb65146424f",
   "metadata": {},
   "outputs": [
    {
     "data": {
      "image/png": "[encoded data removed]",
      "text/plain": [
       "<Figure size 1000x500 with 1 Axes>"
      ]
     },
     "metadata": {},
     "output_type": "display_data"
    }
   ],
   "source": [
    "gender_year = df.groupby(['year', 'gender']).size().unstack(fill_value=0)\n",
    "\n",
    "gender_year.plot(kind='bar', stacked=True, figsize=(10, 5), colormap='Set2')\n",
    "plt.title('Fatal Police Shootings per Year by Gender')\n",
    "plt.xlabel('Year')\n",
    "plt.ylabel('Number of Shootings')\n",
    "plt.legend(title='Gender')\n",
    "plt.tight_layout()\n",
    "plt.show()\n"
   ]
  },
  {
   "cell_type": "code",
   "execution_count": 34,
   "id": "dff6bb0c-1527-49b7-8cff-cdcd58de549e",
   "metadata": {},
   "outputs": [
    {
     "data": {
      "image/png": "[encoded data removed]",
      "text/plain": [
       "<Figure size 1200x600 with 1 Axes>"
      ]
     },
     "metadata": {},
     "output_type": "display_data"
    }
   ],
   "source": [
    "# Group by month and race\n",
    "race_month = df.groupby(['month', 'race']).size().unstack(fill_value=0)\n",
    "\n",
    "# Sort months by total shootings\n",
    "race_month_sorted = race_month.sum(axis=1).sort_values().index\n",
    "\n",
    "# race_month.sum(axis=1) adds up all race values per month (row-wise).sort_values() sorts the months by total shootings (from lowest to highest).\n",
    "#.index gets the sorted list of months.\n",
    "\n",
    "\n",
    "race_month = race_month.loc[race_month_sorted]\n",
    "# Reorders the race_month table to follow the sorted month order, from least to most shootings\n",
    "\n",
    "\n",
    "# Plot\n",
    "race_month.plot(kind='bar', stacked=True, figsize=(12, 6), colormap='Pastel1')\n",
    "plt.title('Fatal Police Shootings per Month by Race (Sorted)')\n",
    "plt.xlabel('Month')\n",
    "plt.ylabel('Number of Shootings')\n",
    "plt.legend(title='Race')\n",
    "plt.tight_layout()\n",
    "plt.show()\n"
   ]
  },
  {
   "cell_type": "markdown",
   "id": "15792e48-0656-447d-a6a5-020ef7d4a205",
   "metadata": {},
   "source": [
    "# Gender by Year:\n",
    "\n",
    "Nearly all victims were male\n",
    "\n",
    "Minor variation across years\n",
    "\n",
    "Big drop in 2020 (likely due to COVID lockdowns)\n",
    "\n",
    "# Race by Month (Sorted):\n",
    "\n",
    "March and January had the highest number of shootings\n",
    "\n",
    "September and November were lower\n",
    "\n",
    "White (W), Black (B), and Hispanic (H) appear most prominently across months"
   ]
  },
  {
   "cell_type": "markdown",
   "id": "8e9dc657-cbd8-4f1a-9166-bd589d6aa938",
   "metadata": {},
   "source": [
    "# How common are mental illness indicators?"
   ]
  },
  {
   "cell_type": "code",
   "execution_count": 35,
   "id": "b9cc15ab-9558-4cc3-bfa7-48506c468b6e",
   "metadata": {},
   "outputs": [
    {
     "data": {
      "text/plain": [
       "signs_of_mental_illness\n",
       "False    4200\n",
       "True     1216\n",
       "Name: count, dtype: int64"
      ]
     },
     "execution_count": 35,
     "metadata": {},
     "output_type": "execute_result"
    }
   ],
   "source": [
    "df[\"signs_of_mental_illness\"].value_counts()"
   ]
  },
  {
   "cell_type": "code",
   "execution_count": 36,
   "id": "c3811fae-4ec8-403e-8426-c7d9cd4668d3",
   "metadata": {},
   "outputs": [
    {
     "data": {
      "text/plain": [
       "signs_of_mental_illness\n",
       "False    0.78\n",
       "True     0.22\n",
       "Name: proportion, dtype: float64"
      ]
     },
     "execution_count": 36,
     "metadata": {},
     "output_type": "execute_result"
    }
   ],
   "source": [
    "(df[\"signs_of_mental_illness\"].value_counts(normalize=True).round(2))\n",
    "\n",
    "#only 22% showed they had it"
   ]
  },
  {
   "cell_type": "code",
   "execution_count": 37,
   "id": "c4c20f19-cb84-4201-b212-cdde4508cb18",
   "metadata": {},
   "outputs": [
    {
     "name": "stderr",
     "output_type": "stream",
     "text": [
      "/var/folders/47/7v7ccc2n5p55ztqrlzyy6j7c0000gn/T/ipykernel_41821/1056538987.py:1: FutureWarning: \n",
      "\n",
      "Passing `palette` without assigning `hue` is deprecated and will be removed in v0.14.0. Assign the `x` variable to `hue` and set `legend=False` for the same effect.\n",
      "\n",
      "  sns.countplot(x='signs_of_mental_illness', data=df, palette='Set2')\n"
     ]
    },
    {
     "data": {
      "image/png": "[encoded data removed]",
      "text/plain": [
       "<Figure size 640x480 with 1 Axes>"
      ]
     },
     "metadata": {},
     "output_type": "display_data"
    }
   ],
   "source": [
    "sns.countplot(x='signs_of_mental_illness', data=df, palette='Set2')\n",
    "plt.title('Mental Illness Reported in Police Shootings')\n",
    "plt.xlabel('Signs of Mental Illness')\n",
    "plt.ylabel('Number of Victims')\n",
    "plt.show()\n"
   ]
  },
  {
   "cell_type": "markdown",
   "id": "e34ca3f7-ce33-45de-bf0b-98d0364fe9a1",
   "metadata": {},
   "source": [
    "About 77.5% of victims in fatal police shootings did not show signs of mental illness, according to the dataset.\n",
    "Conversely, roughly 22.5% did — which is still a significant proportion, especially when mental health could be a factor in de-escalation."
   ]
  },
  {
   "cell_type": "markdown",
   "id": "27403610-9e6a-4958-a54a-5af524979243",
   "metadata": {},
   "source": [
    "# Are mentally ill individuals more likely to be unarmed or fleeing?"
   ]
  },
  {
   "cell_type": "code",
   "execution_count": 38,
   "id": "8eac6097-4676-4999-8494-4cb8e27881bc",
   "metadata": {},
   "outputs": [
    {
     "name": "stdout",
     "output_type": "stream",
     "text": [
      "signs_of_mental_illness\n",
      "False    77.548006\n",
      "True     22.451994\n",
      "Name: proportion, dtype: float64\n"
     ]
    }
   ],
   "source": [
    "mental_pct = df['signs_of_mental_illness'].value_counts(normalize=True) * 100\n",
    "print(mental_pct)\n",
    "# calc percentage"
   ]
  },
  {
   "cell_type": "markdown",
   "id": "a2e4d462-3349-43e7-a4f6-8c8e707d45e5",
   "metadata": {},
   "source": [
    "Are mentally ill individuals more likely to be unarmed or fleeing?"
   ]
  },
  {
   "cell_type": "code",
   "execution_count": 39,
   "id": "c92acdb7-715a-4352-8fb8-1c3aef4ae8c1",
   "metadata": {},
   "outputs": [
    {
     "data": {
      "text/plain": [
       "armed\n",
       "GUN                        3060\n",
       "KNIFE                       792\n",
       "UNARMED                     353\n",
       "UNKNOWN                     227\n",
       "TOY WEAPON                  186\n",
       "                           ... \n",
       "BASEBALL BAT AND BOTTLE       1\n",
       "FIREWORKS                     1\n",
       "PEN                           1\n",
       "CHAINSAW                      1\n",
       "CAR, KNIFE AND MACE           1\n",
       "Name: count, Length: 94, dtype: int64"
      ]
     },
     "execution_count": 39,
     "metadata": {},
     "output_type": "execute_result"
    }
   ],
   "source": [
    "df[\"armed\"].value_counts()"
   ]
  },
  {
   "cell_type": "code",
   "execution_count": 40,
   "id": "bda86b74-7604-44cc-97f4-96561452f2db",
   "metadata": {},
   "outputs": [
    {
     "data": {
      "text/plain": [
       "armed\n",
       "GUN                        0.565\n",
       "KNIFE                      0.146\n",
       "UNARMED                    0.065\n",
       "UNKNOWN                    0.042\n",
       "TOY WEAPON                 0.034\n",
       "                           ...  \n",
       "BASEBALL BAT AND BOTTLE    0.000\n",
       "FIREWORKS                  0.000\n",
       "PEN                        0.000\n",
       "CHAINSAW                   0.000\n",
       "CAR, KNIFE AND MACE        0.000\n",
       "Name: proportion, Length: 94, dtype: float64"
      ]
     },
     "execution_count": 40,
     "metadata": {},
     "output_type": "execute_result"
    }
   ],
   "source": [
    "(df[\"armed\"].value_counts(normalize=True).round(3))"
   ]
  },
  {
   "cell_type": "code",
   "execution_count": 41,
   "id": "dd70c607-e405-4791-b18f-adbc64c8efa5",
   "metadata": {},
   "outputs": [
    {
     "data": {
      "text/html": [
       "<div>\n",
       "<style scoped>\n",
       "    .dataframe tbody tr th:only-of-type {\n",
       "        vertical-align: middle;\n",
       "    }\n",
       "\n",
       "    .dataframe tbody tr th {\n",
       "        vertical-align: top;\n",
       "    }\n",
       "\n",
       "    .dataframe thead th {\n",
       "        text-align: right;\n",
       "    }\n",
       "</style>\n",
       "<table border=\"1\" class=\"dataframe\">\n",
       "  <thead>\n",
       "    <tr style=\"text-align: right;\">\n",
       "      <th>signs_of_mental_illness</th>\n",
       "      <th>False</th>\n",
       "      <th>True</th>\n",
       "    </tr>\n",
       "    <tr>\n",
       "      <th>armed</th>\n",
       "      <th></th>\n",
       "      <th></th>\n",
       "    </tr>\n",
       "  </thead>\n",
       "  <tbody>\n",
       "    <tr>\n",
       "      <th>AIR CONDITIONER</th>\n",
       "      <td>1</td>\n",
       "      <td>0</td>\n",
       "    </tr>\n",
       "    <tr>\n",
       "      <th>AIR PISTOL</th>\n",
       "      <td>1</td>\n",
       "      <td>0</td>\n",
       "    </tr>\n",
       "    <tr>\n",
       "      <th>AIRSOFT PISTOL</th>\n",
       "      <td>1</td>\n",
       "      <td>0</td>\n",
       "    </tr>\n",
       "    <tr>\n",
       "      <th>AX</th>\n",
       "      <td>12</td>\n",
       "      <td>12</td>\n",
       "    </tr>\n",
       "    <tr>\n",
       "      <th>BARSTOOL</th>\n",
       "      <td>0</td>\n",
       "      <td>1</td>\n",
       "    </tr>\n",
       "    <tr>\n",
       "      <th>...</th>\n",
       "      <td>...</td>\n",
       "      <td>...</td>\n",
       "    </tr>\n",
       "    <tr>\n",
       "      <th>VEHICLE AND GUN</th>\n",
       "      <td>4</td>\n",
       "      <td>0</td>\n",
       "    </tr>\n",
       "    <tr>\n",
       "      <th>VEHICLE AND MACHETE</th>\n",
       "      <td>1</td>\n",
       "      <td>0</td>\n",
       "    </tr>\n",
       "    <tr>\n",
       "      <th>WALKING STICK</th>\n",
       "      <td>0</td>\n",
       "      <td>1</td>\n",
       "    </tr>\n",
       "    <tr>\n",
       "      <th>WASP SPRAY</th>\n",
       "      <td>0</td>\n",
       "      <td>1</td>\n",
       "    </tr>\n",
       "    <tr>\n",
       "      <th>WRENCH</th>\n",
       "      <td>0</td>\n",
       "      <td>1</td>\n",
       "    </tr>\n",
       "  </tbody>\n",
       "</table>\n",
       "<p>94 rows × 2 columns</p>\n",
       "</div>"
      ],
      "text/plain": [
       "signs_of_mental_illness  False  True \n",
       "armed                                \n",
       "AIR CONDITIONER              1      0\n",
       "AIR PISTOL                   1      0\n",
       "AIRSOFT PISTOL               1      0\n",
       "AX                          12     12\n",
       "BARSTOOL                     0      1\n",
       "...                        ...    ...\n",
       "VEHICLE AND GUN              4      0\n",
       "VEHICLE AND MACHETE          1      0\n",
       "WALKING STICK                0      1\n",
       "WASP SPRAY                   0      1\n",
       "WRENCH                       0      1\n",
       "\n",
       "[94 rows x 2 columns]"
      ]
     },
     "execution_count": 41,
     "metadata": {},
     "output_type": "execute_result"
    }
   ],
   "source": [
    "mental_armed = df.groupby([\"armed\",\"signs_of_mental_illness\"]).size().unstack(fill_value=0)\n",
    "mental_armed\n",
    "\n",
    "\n",
    "#going to see how many were armed and reported a mental illness aswell. "
   ]
  },
  {
   "cell_type": "code",
   "execution_count": 42,
   "id": "c35252a2-9f88-4eee-ba01-e1bcabd0acbb",
   "metadata": {},
   "outputs": [],
   "source": [
    "#top 10 most frequent weapons \n",
    "# Calculate total counts across both True/False columns\n",
    "top_armed = mental_armed.sum(axis=1).sort_values(ascending=False).head(10)\n",
    "\n",
    "# Subset just those top 10 rows\n",
    "mental_armed_top = mental_armed.loc[top_armed.index]\n"
   ]
  },
  {
   "cell_type": "code",
   "execution_count": 43,
   "id": "4fc0dc73-0dd9-4e29-ba49-7affe5f8f18b",
   "metadata": {},
   "outputs": [
    {
     "data": {
      "image/png": "[encoded data removed]",
      "text/plain": [
       "<Figure size 1000x600 with 1 Axes>"
      ]
     },
     "metadata": {},
     "output_type": "display_data"
    }
   ],
   "source": [
    "# Plot Top 10\n",
    "ax = mental_armed_top.plot(\n",
    "    kind='barh',\n",
    "    stacked=True,\n",
    "    figsize=(10, 6),\n",
    "    colormap='Set3'\n",
    ")\n",
    "\n",
    "plt.title('Mental Illness by Weapon Type (Top 10)')\n",
    "plt.xlabel('Number of Victims')\n",
    "plt.ylabel('Weapon or Object')\n",
    "plt.legend(title='Signs of Mental Illness')\n",
    "plt.tight_layout()\n",
    "\n",
    "# Add value labels\n",
    "for i, weapon in enumerate(mental_armed_top.index):\n",
    "    left = 0\n",
    "    for sign in mental_armed_top.columns:\n",
    "        value = mental_armed_top.loc[weapon, sign]\n",
    "        if value > 0:\n",
    "            ax.text(\n",
    "                left + value / 2,\n",
    "                i,\n",
    "                str(int(value)),\n",
    "                va='center',\n",
    "                ha='center',\n",
    "                fontsize=8\n",
    "            )\n",
    "            left += value\n",
    "\n",
    "plt.show()\n"
   ]
  },
  {
   "cell_type": "markdown",
   "id": "1406ae35-85fb-479f-90df-26ff77a798c7",
   "metadata": {},
   "source": [
    "\"GUN\" is by far the most common weapon in police shootings.\n",
    "\n",
    "Mental illness was present in:\n",
    "\n",
    "A significant number of knife and unarmed cases\n",
    "\n",
    "A noticeable portion of \"UNKNOWN\", \"TOY WEAPON\", and \"UNDETERMINED\" too\n",
    "\n",
    "That yellow bar next to “UNARMED” means people with mental illness were still shot even when unarmed."
   ]
  },
  {
   "cell_type": "markdown",
   "id": "94cb9928-5105-4ffe-92b7-8d15ca4e2b6b",
   "metadata": {},
   "source": [
    "# Does threat level affect body camera use"
   ]
  },
  {
   "cell_type": "code",
   "execution_count": 44,
   "id": "d555e155-c4bb-42e3-a8b2-aea66791fbcd",
   "metadata": {},
   "outputs": [
    {
     "data": {
      "text/plain": [
       "['id',\n",
       " 'name',\n",
       " 'date',\n",
       " 'manner_of_death',\n",
       " 'armed',\n",
       " 'age',\n",
       " 'gender',\n",
       " 'race',\n",
       " 'city',\n",
       " 'state',\n",
       " 'signs_of_mental_illness',\n",
       " 'threat_level',\n",
       " 'flee',\n",
       " 'body_camera',\n",
       " 'year',\n",
       " 'month',\n",
       " 'weekday']"
      ]
     },
     "execution_count": 44,
     "metadata": {},
     "output_type": "execute_result"
    }
   ],
   "source": [
    "df.columns.tolist()"
   ]
  },
  {
   "cell_type": "code",
   "execution_count": 45,
   "id": "d65592af-d053-4f7c-92bf-205c00910d95",
   "metadata": {},
   "outputs": [
    {
     "data": {
      "text/plain": [
       "threat_level\n",
       "ATTACK          3495\n",
       "OTHER           1682\n",
       "UNDETERMINED     239\n",
       "Name: count, dtype: int64"
      ]
     },
     "execution_count": 45,
     "metadata": {},
     "output_type": "execute_result"
    }
   ],
   "source": [
    "df[\"threat_level\"].value_counts()"
   ]
  },
  {
   "cell_type": "code",
   "execution_count": 46,
   "id": "2ce45bc6-d194-4f5f-9cfd-fd7771092801",
   "metadata": {},
   "outputs": [
    {
     "data": {
      "text/plain": [
       "flee\n",
       "NOT FLEEING    3411\n",
       "CAR             900\n",
       "FOOT            692\n",
       "UNKNOWN         249\n",
       "OTHER           164\n",
       "Name: count, dtype: int64"
      ]
     },
     "execution_count": 46,
     "metadata": {},
     "output_type": "execute_result"
    }
   ],
   "source": [
    "df[\"flee\"].value_counts()"
   ]
  },
  {
   "cell_type": "code",
   "execution_count": 47,
   "id": "7e0e4b23-8bd7-41bb-9f8b-9b9bec51ed46",
   "metadata": {},
   "outputs": [
    {
     "data": {
      "text/plain": [
       "flee\n",
       "NOT FLEEING    0.63\n",
       "CAR            0.17\n",
       "FOOT           0.13\n",
       "UNKNOWN        0.05\n",
       "OTHER          0.03\n",
       "Name: proportion, dtype: float64"
      ]
     },
     "execution_count": 47,
     "metadata": {},
     "output_type": "execute_result"
    }
   ],
   "source": [
    "(df[\"flee\"].value_counts(normalize=True).round(2))"
   ]
  },
  {
   "cell_type": "code",
   "execution_count": 48,
   "id": "ddfe0e8c-20ec-4cf7-a71a-b1e313457aef",
   "metadata": {},
   "outputs": [
    {
     "data": {
      "text/html": [
       "<div>\n",
       "<style scoped>\n",
       "    .dataframe tbody tr th:only-of-type {\n",
       "        vertical-align: middle;\n",
       "    }\n",
       "\n",
       "    .dataframe tbody tr th {\n",
       "        vertical-align: top;\n",
       "    }\n",
       "\n",
       "    .dataframe thead th {\n",
       "        text-align: right;\n",
       "    }\n",
       "</style>\n",
       "<table border=\"1\" class=\"dataframe\">\n",
       "  <thead>\n",
       "    <tr style=\"text-align: right;\">\n",
       "      <th>flee</th>\n",
       "      <th>CAR</th>\n",
       "      <th>FOOT</th>\n",
       "      <th>NOT FLEEING</th>\n",
       "      <th>OTHER</th>\n",
       "      <th>UNKNOWN</th>\n",
       "    </tr>\n",
       "    <tr>\n",
       "      <th>threat_level</th>\n",
       "      <th></th>\n",
       "      <th></th>\n",
       "      <th></th>\n",
       "      <th></th>\n",
       "      <th></th>\n",
       "    </tr>\n",
       "  </thead>\n",
       "  <tbody>\n",
       "    <tr>\n",
       "      <th>ATTACK</th>\n",
       "      <td>588</td>\n",
       "      <td>450</td>\n",
       "      <td>2224</td>\n",
       "      <td>107</td>\n",
       "      <td>126</td>\n",
       "    </tr>\n",
       "    <tr>\n",
       "      <th>OTHER</th>\n",
       "      <td>277</td>\n",
       "      <td>203</td>\n",
       "      <td>1073</td>\n",
       "      <td>47</td>\n",
       "      <td>82</td>\n",
       "    </tr>\n",
       "    <tr>\n",
       "      <th>UNDETERMINED</th>\n",
       "      <td>35</td>\n",
       "      <td>39</td>\n",
       "      <td>114</td>\n",
       "      <td>10</td>\n",
       "      <td>41</td>\n",
       "    </tr>\n",
       "  </tbody>\n",
       "</table>\n",
       "</div>"
      ],
      "text/plain": [
       "flee          CAR  FOOT  NOT FLEEING  OTHER  UNKNOWN\n",
       "threat_level                                        \n",
       "ATTACK        588   450         2224    107      126\n",
       "OTHER         277   203         1073     47       82\n",
       "UNDETERMINED   35    39          114     10       41"
      ]
     },
     "execution_count": 48,
     "metadata": {},
     "output_type": "execute_result"
    }
   ],
   "source": [
    "\n",
    "threatby = df.groupby([\"threat_level\", \"flee\"]).size().unstack(fill_value=0)\n",
    "threatby"
   ]
  },
  {
   "cell_type": "code",
   "execution_count": 49,
   "id": "16cae5ad-b616-4070-a783-26b533d85f6e",
   "metadata": {},
   "outputs": [
    {
     "data": {
      "image/png": "[encoded data removed]",
      "text/plain": [
       "<Figure size 1000x600 with 1 Axes>"
      ]
     },
     "metadata": {},
     "output_type": "display_data"
    }
   ],
   "source": [
    "# Basic stacked bar plot (cleaner layout)\n",
    "ax = threatby.plot(\n",
    "    kind='bar',\n",
    "    stacked=True,\n",
    "    figsize=(10, 6),        # Reasonable size\n",
    "    colormap='Set2',\n",
    "    edgecolor='black'\n",
    ")\n",
    "\n",
    "plt.title('Threat Level vs. Fleeing Behavior')\n",
    "plt.xlabel('Threat Level')\n",
    "plt.ylabel('Number of Shootings')\n",
    "plt.legend(title='Fleeing', bbox_to_anchor=(1.05, 1), loc='upper left')  # Put legend outside\n",
    "plt.tight_layout()\n",
    "plt.show()\n"
   ]
  },
  {
   "cell_type": "code",
   "execution_count": 50,
   "id": "bcf86a62-d748-4d25-bb91-bbd5afa42ce4",
   "metadata": {},
   "outputs": [
    {
     "data": {
      "image/png": "[encoded data removed]",
      "text/plain": [
       "<Figure size 1000x600 with 1 Axes>"
      ]
     },
     "metadata": {},
     "output_type": "display_data"
    }
   ],
   "source": [
    "# Group by threat level and body camera usage\n",
    "cam_threat = df.groupby(['threat_level', 'body_camera']).size().unstack(fill_value=0)\n",
    "\n",
    "# Plot\n",
    "cam_threat.plot(kind='bar', stacked=True, figsize=(10, 6), colormap='Accent', edgecolor='black')\n",
    "plt.title('Body Camera Use by Threat Level')\n",
    "plt.xlabel('Threat Level')\n",
    "plt.ylabel('Number of Shootings')\n",
    "plt.legend(title='Body Camera Used')\n",
    "plt.tight_layout()\n",
    "\n",
    "plt.show()\n"
   ]
  },
  {
   "cell_type": "markdown",
   "id": "b046398d-188a-431e-be7e-3d9e8fce594c",
   "metadata": {},
   "source": [
    "Most shootings (especially high-threat “attack” cases) occurred without body camera usage.\n",
    "\n",
    "Even in “other” and “undetermined” threat levels, the number of shootings without cameras far outweighs those with.\n",
    "\n",
    "This suggests a potential lack of accountability or inconsistent camera use, particularly in deadly encounters."
   ]
  },
  {
   "cell_type": "code",
   "execution_count": 51,
   "id": "cd780275-d3a2-47d8-b7bc-d294bfd53b8a",
   "metadata": {},
   "outputs": [],
   "source": [
    "# Normalize the counts by row (i.e., by threat level)\n",
    "cam_threat_pct = cam_threat.div(cam_threat.sum(axis=1), axis=0)\n"
   ]
  },
  {
   "cell_type": "code",
   "execution_count": 52,
   "id": "db957402-ab42-4c5b-b1fa-b0c0b80381cb",
   "metadata": {},
   "outputs": [
    {
     "data": {
      "image/png": "[encoded data removed]",
      "text/plain": [
       "<Figure size 1000x600 with 1 Axes>"
      ]
     },
     "metadata": {},
     "output_type": "display_data"
    }
   ],
   "source": [
    "# Plot\n",
    "ax = cam_threat_pct.plot(kind='bar', stacked=True, figsize=(10, 6), colormap='Accent', edgecolor='black')\n",
    "\n",
    "plt.title('Percentage of Body Camera Use by Threat Level')\n",
    "plt.xlabel('Threat Level')\n",
    "plt.ylabel('Percentage of Shootings')\n",
    "plt.legend(title='Body Camera Used', loc='upper right')\n",
    "plt.tight_layout()\n",
    "\n",
    "# Add labels\n",
    "for i, index in enumerate(cam_threat_pct.index):\n",
    "    left = 0\n",
    "    for cam in cam_threat_pct.columns:\n",
    "        value = cam_threat_pct.loc[index, cam]\n",
    "        if value > 0:\n",
    "            ax.text(\n",
    "                left + value / 2,\n",
    "                i,\n",
    "                f'{value*100:.1f}%',\n",
    "                ha='center',\n",
    "                va='center',\n",
    "                fontsize=9,\n",
    "                color='black'\n",
    "            )\n",
    "            left += value\n",
    "\n",
    "plt.show()\n"
   ]
  },
  {
   "cell_type": "code",
   "execution_count": null,
   "id": "9967feb0-6399-4e8e-9740-4ef162f5734b",
   "metadata": {},
   "outputs": [],
   "source": []
  },
  {
   "cell_type": "markdown",
   "id": "f5cebe2a-707c-4a5d-ba2c-01eb4e7541a5",
   "metadata": {},
   "source": [
    "# Are fleeing individuals more likely to be shot unarmed?"
   ]
  },
  {
   "cell_type": "code",
   "execution_count": 53,
   "id": "5131225b-8782-448f-86e5-f7d50168764e",
   "metadata": {},
   "outputs": [
    {
     "data": {
      "text/html": [
       "<div>\n",
       "<style scoped>\n",
       "    .dataframe tbody tr th:only-of-type {\n",
       "        vertical-align: middle;\n",
       "    }\n",
       "\n",
       "    .dataframe tbody tr th {\n",
       "        vertical-align: top;\n",
       "    }\n",
       "\n",
       "    .dataframe thead th {\n",
       "        text-align: right;\n",
       "    }\n",
       "</style>\n",
       "<table border=\"1\" class=\"dataframe\">\n",
       "  <thead>\n",
       "    <tr style=\"text-align: right;\">\n",
       "      <th>armed</th>\n",
       "      <th>AIR CONDITIONER</th>\n",
       "      <th>AIR PISTOL</th>\n",
       "      <th>AIRSOFT PISTOL</th>\n",
       "      <th>AX</th>\n",
       "      <th>BARSTOOL</th>\n",
       "      <th>BASEBALL BAT</th>\n",
       "      <th>BASEBALL BAT AND BOTTLE</th>\n",
       "      <th>BASEBALL BAT AND FIREPLACE POKER</th>\n",
       "      <th>BASEBALL BAT AND KNIFE</th>\n",
       "      <th>BATON</th>\n",
       "      <th>...</th>\n",
       "      <th>UNARMED</th>\n",
       "      <th>UNDETERMINED</th>\n",
       "      <th>UNKNOWN</th>\n",
       "      <th>UNKNOWN WEAPON</th>\n",
       "      <th>VEHICLE</th>\n",
       "      <th>VEHICLE AND GUN</th>\n",
       "      <th>VEHICLE AND MACHETE</th>\n",
       "      <th>WALKING STICK</th>\n",
       "      <th>WASP SPRAY</th>\n",
       "      <th>WRENCH</th>\n",
       "    </tr>\n",
       "    <tr>\n",
       "      <th>flee</th>\n",
       "      <th></th>\n",
       "      <th></th>\n",
       "      <th></th>\n",
       "      <th></th>\n",
       "      <th></th>\n",
       "      <th></th>\n",
       "      <th></th>\n",
       "      <th></th>\n",
       "      <th></th>\n",
       "      <th></th>\n",
       "      <th></th>\n",
       "      <th></th>\n",
       "      <th></th>\n",
       "      <th></th>\n",
       "      <th></th>\n",
       "      <th></th>\n",
       "      <th></th>\n",
       "      <th></th>\n",
       "      <th></th>\n",
       "      <th></th>\n",
       "      <th></th>\n",
       "    </tr>\n",
       "  </thead>\n",
       "  <tbody>\n",
       "    <tr>\n",
       "      <th>CAR</th>\n",
       "      <td>0</td>\n",
       "      <td>0</td>\n",
       "      <td>0</td>\n",
       "      <td>0</td>\n",
       "      <td>0</td>\n",
       "      <td>0</td>\n",
       "      <td>0</td>\n",
       "      <td>0</td>\n",
       "      <td>0</td>\n",
       "      <td>0</td>\n",
       "      <td>...</td>\n",
       "      <td>67</td>\n",
       "      <td>36</td>\n",
       "      <td>155</td>\n",
       "      <td>7</td>\n",
       "      <td>102</td>\n",
       "      <td>1</td>\n",
       "      <td>0</td>\n",
       "      <td>0</td>\n",
       "      <td>0</td>\n",
       "      <td>0</td>\n",
       "    </tr>\n",
       "    <tr>\n",
       "      <th>FOOT</th>\n",
       "      <td>0</td>\n",
       "      <td>0</td>\n",
       "      <td>0</td>\n",
       "      <td>1</td>\n",
       "      <td>0</td>\n",
       "      <td>1</td>\n",
       "      <td>0</td>\n",
       "      <td>0</td>\n",
       "      <td>0</td>\n",
       "      <td>1</td>\n",
       "      <td>...</td>\n",
       "      <td>75</td>\n",
       "      <td>22</td>\n",
       "      <td>4</td>\n",
       "      <td>6</td>\n",
       "      <td>4</td>\n",
       "      <td>1</td>\n",
       "      <td>1</td>\n",
       "      <td>1</td>\n",
       "      <td>0</td>\n",
       "      <td>0</td>\n",
       "    </tr>\n",
       "    <tr>\n",
       "      <th>NOT FLEEING</th>\n",
       "      <td>1</td>\n",
       "      <td>1</td>\n",
       "      <td>1</td>\n",
       "      <td>18</td>\n",
       "      <td>1</td>\n",
       "      <td>17</td>\n",
       "      <td>1</td>\n",
       "      <td>1</td>\n",
       "      <td>1</td>\n",
       "      <td>4</td>\n",
       "      <td>...</td>\n",
       "      <td>191</td>\n",
       "      <td>72</td>\n",
       "      <td>53</td>\n",
       "      <td>50</td>\n",
       "      <td>30</td>\n",
       "      <td>2</td>\n",
       "      <td>0</td>\n",
       "      <td>0</td>\n",
       "      <td>1</td>\n",
       "      <td>1</td>\n",
       "    </tr>\n",
       "    <tr>\n",
       "      <th>OTHER</th>\n",
       "      <td>0</td>\n",
       "      <td>0</td>\n",
       "      <td>0</td>\n",
       "      <td>0</td>\n",
       "      <td>0</td>\n",
       "      <td>0</td>\n",
       "      <td>0</td>\n",
       "      <td>0</td>\n",
       "      <td>0</td>\n",
       "      <td>0</td>\n",
       "      <td>...</td>\n",
       "      <td>11</td>\n",
       "      <td>6</td>\n",
       "      <td>7</td>\n",
       "      <td>5</td>\n",
       "      <td>2</td>\n",
       "      <td>0</td>\n",
       "      <td>0</td>\n",
       "      <td>0</td>\n",
       "      <td>0</td>\n",
       "      <td>0</td>\n",
       "    </tr>\n",
       "    <tr>\n",
       "      <th>UNKNOWN</th>\n",
       "      <td>0</td>\n",
       "      <td>0</td>\n",
       "      <td>0</td>\n",
       "      <td>5</td>\n",
       "      <td>0</td>\n",
       "      <td>0</td>\n",
       "      <td>0</td>\n",
       "      <td>0</td>\n",
       "      <td>0</td>\n",
       "      <td>0</td>\n",
       "      <td>...</td>\n",
       "      <td>9</td>\n",
       "      <td>28</td>\n",
       "      <td>8</td>\n",
       "      <td>11</td>\n",
       "      <td>1</td>\n",
       "      <td>0</td>\n",
       "      <td>0</td>\n",
       "      <td>0</td>\n",
       "      <td>0</td>\n",
       "      <td>0</td>\n",
       "    </tr>\n",
       "  </tbody>\n",
       "</table>\n",
       "<p>5 rows × 94 columns</p>\n",
       "</div>"
      ],
      "text/plain": [
       "armed        AIR CONDITIONER  AIR PISTOL  AIRSOFT PISTOL  AX  BARSTOOL  \\\n",
       "flee                                                                     \n",
       "CAR                        0           0               0   0         0   \n",
       "FOOT                       0           0               0   1         0   \n",
       "NOT FLEEING                1           1               1  18         1   \n",
       "OTHER                      0           0               0   0         0   \n",
       "UNKNOWN                    0           0               0   5         0   \n",
       "\n",
       "armed        BASEBALL BAT  BASEBALL BAT AND BOTTLE  \\\n",
       "flee                                                 \n",
       "CAR                     0                        0   \n",
       "FOOT                    1                        0   \n",
       "NOT FLEEING            17                        1   \n",
       "OTHER                   0                        0   \n",
       "UNKNOWN                 0                        0   \n",
       "\n",
       "armed        BASEBALL BAT AND FIREPLACE POKER  BASEBALL BAT AND KNIFE  BATON  \\\n",
       "flee                                                                           \n",
       "CAR                                         0                       0      0   \n",
       "FOOT                                        0                       0      1   \n",
       "NOT FLEEING                                 1                       1      4   \n",
       "OTHER                                       0                       0      0   \n",
       "UNKNOWN                                     0                       0      0   \n",
       "\n",
       "armed        ...  UNARMED  UNDETERMINED  UNKNOWN  UNKNOWN WEAPON  VEHICLE  \\\n",
       "flee         ...                                                            \n",
       "CAR          ...       67            36      155               7      102   \n",
       "FOOT         ...       75            22        4               6        4   \n",
       "NOT FLEEING  ...      191            72       53              50       30   \n",
       "OTHER        ...       11             6        7               5        2   \n",
       "UNKNOWN      ...        9            28        8              11        1   \n",
       "\n",
       "armed        VEHICLE AND GUN  VEHICLE AND MACHETE  WALKING STICK  WASP SPRAY  \\\n",
       "flee                                                                           \n",
       "CAR                        1                    0              0           0   \n",
       "FOOT                       1                    1              1           0   \n",
       "NOT FLEEING                2                    0              0           1   \n",
       "OTHER                      0                    0              0           0   \n",
       "UNKNOWN                    0                    0              0           0   \n",
       "\n",
       "armed        WRENCH  \n",
       "flee                 \n",
       "CAR               0  \n",
       "FOOT              0  \n",
       "NOT FLEEING       1  \n",
       "OTHER             0  \n",
       "UNKNOWN           0  \n",
       "\n",
       "[5 rows x 94 columns]"
      ]
     },
     "execution_count": 53,
     "metadata": {},
     "output_type": "execute_result"
    }
   ],
   "source": [
    "flee_armed = df.groupby(['flee', 'armed']).size().unstack(fill_value=0)\n",
    "flee_armed\n"
   ]
  },
  {
   "cell_type": "code",
   "execution_count": 54,
   "id": "6ed7c9d9-7a1f-4b6c-ad37-544d1e222cb0",
   "metadata": {},
   "outputs": [
    {
     "data": {
      "text/html": [
       "<div>\n",
       "<style scoped>\n",
       "    .dataframe tbody tr th:only-of-type {\n",
       "        vertical-align: middle;\n",
       "    }\n",
       "\n",
       "    .dataframe tbody tr th {\n",
       "        vertical-align: top;\n",
       "    }\n",
       "\n",
       "    .dataframe thead th {\n",
       "        text-align: right;\n",
       "    }\n",
       "</style>\n",
       "<table border=\"1\" class=\"dataframe\">\n",
       "  <thead>\n",
       "    <tr style=\"text-align: right;\">\n",
       "      <th></th>\n",
       "      <th>state</th>\n",
       "      <th>city</th>\n",
       "      <th>shooting_count</th>\n",
       "    </tr>\n",
       "  </thead>\n",
       "  <tbody>\n",
       "    <tr>\n",
       "      <th>375</th>\n",
       "      <td>CA</td>\n",
       "      <td>LOS ANGELES</td>\n",
       "      <td>85</td>\n",
       "    </tr>\n",
       "    <tr>\n",
       "      <th>184</th>\n",
       "      <td>AZ</td>\n",
       "      <td>PHOENIX</td>\n",
       "      <td>77</td>\n",
       "    </tr>\n",
       "    <tr>\n",
       "      <th>2385</th>\n",
       "      <td>TX</td>\n",
       "      <td>HOUSTON</td>\n",
       "      <td>56</td>\n",
       "    </tr>\n",
       "    <tr>\n",
       "      <th>1777</th>\n",
       "      <td>NV</td>\n",
       "      <td>LAS VEGAS</td>\n",
       "      <td>45</td>\n",
       "    </tr>\n",
       "    <tr>\n",
       "      <th>2458</th>\n",
       "      <td>TX</td>\n",
       "      <td>SAN ANTONIO</td>\n",
       "      <td>43</td>\n",
       "    </tr>\n",
       "    <tr>\n",
       "      <th>981</th>\n",
       "      <td>IL</td>\n",
       "      <td>CHICAGO</td>\n",
       "      <td>38</td>\n",
       "    </tr>\n",
       "    <tr>\n",
       "      <th>1734</th>\n",
       "      <td>NM</td>\n",
       "      <td>ALBUQUERQUE</td>\n",
       "      <td>35</td>\n",
       "    </tr>\n",
       "    <tr>\n",
       "      <th>1864</th>\n",
       "      <td>OH</td>\n",
       "      <td>COLUMBUS</td>\n",
       "      <td>31</td>\n",
       "    </tr>\n",
       "    <tr>\n",
       "      <th>556</th>\n",
       "      <td>CO</td>\n",
       "      <td>DENVER</td>\n",
       "      <td>30</td>\n",
       "    </tr>\n",
       "    <tr>\n",
       "      <th>1991</th>\n",
       "      <td>OK</td>\n",
       "      <td>OKLAHOMA CITY</td>\n",
       "      <td>30</td>\n",
       "    </tr>\n",
       "  </tbody>\n",
       "</table>\n",
       "</div>"
      ],
      "text/plain": [
       "     state           city  shooting_count\n",
       "375     CA    LOS ANGELES              85\n",
       "184     AZ        PHOENIX              77\n",
       "2385    TX        HOUSTON              56\n",
       "1777    NV      LAS VEGAS              45\n",
       "2458    TX    SAN ANTONIO              43\n",
       "981     IL        CHICAGO              38\n",
       "1734    NM    ALBUQUERQUE              35\n",
       "1864    OH       COLUMBUS              31\n",
       "556     CO         DENVER              30\n",
       "1991    OK  OKLAHOMA CITY              30"
      ]
     },
     "execution_count": 54,
     "metadata": {},
     "output_type": "execute_result"
    }
   ],
   "source": [
    "# Group by city and state\n",
    "city_state_counts = (\n",
    "    df.groupby(['state', 'city'])\n",
    "    .size()\n",
    "    .reset_index(name='shooting_count')\n",
    "    .sort_values('shooting_count', ascending=False)\n",
    ")\n",
    "\n",
    "city_state_counts.head(10)\n"
   ]
  },
  {
   "cell_type": "code",
   "execution_count": 68,
   "id": "9b4f48b8-abe3-4c53-a5c1-40905427bb5c",
   "metadata": {},
   "outputs": [
    {
     "ename": "TypeError",
     "evalue": "'int' object is not callable",
     "output_type": "error",
     "traceback": [
      "\u001b[0;31m---------------------------------------------------------------------------\u001b[0m",
      "\u001b[0;31mTypeError\u001b[0m                                 Traceback (most recent call last)",
      "Cell \u001b[0;32mIn[68], line 9\u001b[0m\n\u001b[1;32m      1\u001b[0m \u001b[38;5;66;03m# Group by city and state\u001b[39;00m\n\u001b[1;32m      2\u001b[0m city_state_counts \u001b[38;5;241m=\u001b[39m (\n\u001b[1;32m      3\u001b[0m     df\u001b[38;5;241m.\u001b[39mgroupby([\u001b[38;5;124m'\u001b[39m\u001b[38;5;124mstate\u001b[39m\u001b[38;5;124m'\u001b[39m, \u001b[38;5;124m'\u001b[39m\u001b[38;5;124mcity\u001b[39m\u001b[38;5;124m'\u001b[39m])\n\u001b[1;32m      4\u001b[0m     \u001b[38;5;241m.\u001b[39msize()\n\u001b[1;32m      5\u001b[0m     \u001b[38;5;241m.\u001b[39mreset_index(name\u001b[38;5;241m=\u001b[39m\u001b[38;5;124m'\u001b[39m\u001b[38;5;124mshooting_count\u001b[39m\u001b[38;5;124m'\u001b[39m)\n\u001b[1;32m      6\u001b[0m     \u001b[38;5;241m.\u001b[39msort_values(\u001b[38;5;124m'\u001b[39m\u001b[38;5;124mshooting_count\u001b[39m\u001b[38;5;124m'\u001b[39m, ascending\u001b[38;5;241m=\u001b[39m\u001b[38;5;28;01mFalse\u001b[39;00m)\n\u001b[1;32m      7\u001b[0m )\n\u001b[0;32m----> 9\u001b[0m city_state_counts\u001b[38;5;241m.\u001b[39mvalue_counts()\u001b[38;5;241m.\u001b[39msize()\n",
      "\u001b[0;31mTypeError\u001b[0m: 'int' object is not callable"
     ]
    }
   ],
   "source": [
    "# Group by city and state\n",
    "city_state_counts = (\n",
    "    df.groupby(['state', 'city'])\n",
    "    .size()\n",
    "    .reset_index(name='shooting_count')\n",
    "    .sort_values('shooting_count', ascending=False)\n",
    ")\n",
    "\n",
    "city_state_counts.value_counts().size()\n"
   ]
  },
  {
   "cell_type": "code",
   "execution_count": 60,
   "id": "9a7792de-4834-4cde-9405-63d7312a308b",
   "metadata": {},
   "outputs": [],
   "source": [
    "top10_cities = city_state_counts.head(10).copy()\n",
    "\n",
    "#Avoid copying actgual DF"
   ]
  },
  {
   "cell_type": "markdown",
   "id": "a860f54a-9ca5-43df-9d27-bcd51556f0a8",
   "metadata": {},
   "source": [
    "# want to visualize it now "
   ]
  },
  {
   "cell_type": "code",
   "execution_count": 61,
   "id": "0c414331-2aaa-4649-a9e1-711ee667ae68",
   "metadata": {},
   "outputs": [],
   "source": [
    "# add lat and long \n",
    "city_coords = {\n",
    "    (\"CA\", \"LOS ANGELES\"): (34.0522, -118.2437),\n",
    "    (\"AZ\", \"PHOENIX\"): (33.4484, -112.0740),\n",
    "    (\"TX\", \"HOUSTON\"): (29.7604, -95.3698),\n",
    "    (\"NV\", \"LAS VEGAS\"): (36.1699, -115.1398),\n",
    "    (\"TX\", \"SAN ANTONIO\"): (29.4241, -98.4936),\n",
    "    (\"IL\", \"CHICAGO\"): (41.8781, -87.6298),\n",
    "    (\"NM\", \"ALBUQUERQUE\"): (35.0844, -106.6504),\n",
    "    (\"OH\", \"COLUMBUS\"): (39.9612, -82.9988),\n",
    "    (\"CO\", \"DENVER\"): (39.7392, -104.9903),\n",
    "    (\"OK\", \"OKLAHOMA CITY\"): (35.4676, -97.5164),\n",
    "}\n"
   ]
  },
  {
   "cell_type": "code",
   "execution_count": 62,
   "id": "c45e53d2-37af-4c7d-b25d-c7ab40fe9826",
   "metadata": {},
   "outputs": [
    {
     "data": {
      "text/html": [
       "<div>\n",
       "<style scoped>\n",
       "    .dataframe tbody tr th:only-of-type {\n",
       "        vertical-align: middle;\n",
       "    }\n",
       "\n",
       "    .dataframe tbody tr th {\n",
       "        vertical-align: top;\n",
       "    }\n",
       "\n",
       "    .dataframe thead th {\n",
       "        text-align: right;\n",
       "    }\n",
       "</style>\n",
       "<table border=\"1\" class=\"dataframe\">\n",
       "  <thead>\n",
       "    <tr style=\"text-align: right;\">\n",
       "      <th></th>\n",
       "      <th>state</th>\n",
       "      <th>city</th>\n",
       "      <th>shooting_count</th>\n",
       "      <th>latitude</th>\n",
       "      <th>longitude</th>\n",
       "    </tr>\n",
       "  </thead>\n",
       "  <tbody>\n",
       "    <tr>\n",
       "      <th>375</th>\n",
       "      <td>CA</td>\n",
       "      <td>LOS ANGELES</td>\n",
       "      <td>85</td>\n",
       "      <td>34.0522</td>\n",
       "      <td>-118.2437</td>\n",
       "    </tr>\n",
       "    <tr>\n",
       "      <th>184</th>\n",
       "      <td>AZ</td>\n",
       "      <td>PHOENIX</td>\n",
       "      <td>77</td>\n",
       "      <td>33.4484</td>\n",
       "      <td>-112.074</td>\n",
       "    </tr>\n",
       "    <tr>\n",
       "      <th>2385</th>\n",
       "      <td>TX</td>\n",
       "      <td>HOUSTON</td>\n",
       "      <td>56</td>\n",
       "      <td>29.7604</td>\n",
       "      <td>-95.3698</td>\n",
       "    </tr>\n",
       "    <tr>\n",
       "      <th>1777</th>\n",
       "      <td>NV</td>\n",
       "      <td>LAS VEGAS</td>\n",
       "      <td>45</td>\n",
       "      <td>36.1699</td>\n",
       "      <td>-115.1398</td>\n",
       "    </tr>\n",
       "    <tr>\n",
       "      <th>2458</th>\n",
       "      <td>TX</td>\n",
       "      <td>SAN ANTONIO</td>\n",
       "      <td>43</td>\n",
       "      <td>29.4241</td>\n",
       "      <td>-98.4936</td>\n",
       "    </tr>\n",
       "    <tr>\n",
       "      <th>981</th>\n",
       "      <td>IL</td>\n",
       "      <td>CHICAGO</td>\n",
       "      <td>38</td>\n",
       "      <td>41.8781</td>\n",
       "      <td>-87.6298</td>\n",
       "    </tr>\n",
       "    <tr>\n",
       "      <th>1734</th>\n",
       "      <td>NM</td>\n",
       "      <td>ALBUQUERQUE</td>\n",
       "      <td>35</td>\n",
       "      <td>35.0844</td>\n",
       "      <td>-106.6504</td>\n",
       "    </tr>\n",
       "    <tr>\n",
       "      <th>1864</th>\n",
       "      <td>OH</td>\n",
       "      <td>COLUMBUS</td>\n",
       "      <td>31</td>\n",
       "      <td>39.9612</td>\n",
       "      <td>-82.9988</td>\n",
       "    </tr>\n",
       "    <tr>\n",
       "      <th>556</th>\n",
       "      <td>CO</td>\n",
       "      <td>DENVER</td>\n",
       "      <td>30</td>\n",
       "      <td>39.7392</td>\n",
       "      <td>-104.9903</td>\n",
       "    </tr>\n",
       "    <tr>\n",
       "      <th>1991</th>\n",
       "      <td>OK</td>\n",
       "      <td>OKLAHOMA CITY</td>\n",
       "      <td>30</td>\n",
       "      <td>35.4676</td>\n",
       "      <td>-97.5164</td>\n",
       "    </tr>\n",
       "  </tbody>\n",
       "</table>\n",
       "</div>"
      ],
      "text/plain": [
       "     state           city  shooting_count latitude longitude\n",
       "375     CA    LOS ANGELES              85  34.0522 -118.2437\n",
       "184     AZ        PHOENIX              77  33.4484  -112.074\n",
       "2385    TX        HOUSTON              56  29.7604  -95.3698\n",
       "1777    NV      LAS VEGAS              45  36.1699 -115.1398\n",
       "2458    TX    SAN ANTONIO              43  29.4241  -98.4936\n",
       "981     IL        CHICAGO              38  41.8781  -87.6298\n",
       "1734    NM    ALBUQUERQUE              35  35.0844 -106.6504\n",
       "1864    OH       COLUMBUS              31  39.9612  -82.9988\n",
       "556     CO         DENVER              30  39.7392 -104.9903\n",
       "1991    OK  OKLAHOMA CITY              30  35.4676  -97.5164"
      ]
     },
     "execution_count": 62,
     "metadata": {},
     "output_type": "execute_result"
    }
   ],
   "source": [
    "# Merge into the df \n",
    "\n",
    "# Create empty columns\n",
    "top10_cities[\"latitude\"] = None\n",
    "top10_cities[\"longitude\"] = None\n",
    "\n",
    "# Fill them\n",
    "for i, row in top10_cities.iterrows():\n",
    "    coords = city_coords.get((row[\"state\"], row[\"city\"]))\n",
    "    if coords:\n",
    "        top10_cities.at[i, \"latitude\"] = coords[0]\n",
    "        top10_cities.at[i, \"longitude\"] = coords[1]\n",
    "\n",
    "top10_cities\n"
   ]
  },
  {
   "cell_type": "code",
   "execution_count": 64,
   "id": "8e436d01-5421-4353-a522-67dfd555e5a5",
   "metadata": {},
   "outputs": [],
   "source": [
    "\n",
    "\n",
    "# Create base map centered over the continental US\n",
    "m = folium.Map(location=[39, -98], zoom_start=4)\n"
   ]
  },
  {
   "cell_type": "code",
   "execution_count": 65,
   "id": "961e82ab-2ee1-4eb1-b28d-697b40427cb7",
   "metadata": {},
   "outputs": [],
   "source": [
    "# Loop through each row and add a marker\n",
    "for _, row in top10_cities.iterrows():\n",
    "    folium.CircleMarker(\n",
    "        location=[row[\"latitude\"], row[\"longitude\"]],\n",
    "        radius=5 + row[\"shooting_count\"]/10,  # Make radius proportional to shootings\n",
    "        color=\"crimson\",\n",
    "        fill=True,\n",
    "        fill_opacity=0.7,\n",
    "        popup=folium.Popup(\n",
    "            f\"<b>{row['city'].title()}, {row['state']}</b><br>Shootings: {row['shooting_count']}\",\n",
    "            max_width=250\n",
    "        )\n",
    "    ).add_to(m)\n"
   ]
  },
  {
   "cell_type": "code",
   "execution_count": 66,
   "id": "40c4f6db-6ae1-45d4-88da-20b381471198",
   "metadata": {},
   "outputs": [
    {
     "data": {
      "text/html": [
       "<div style=\"width:100%;\"><div style=\"position:relative;width:100%;height:0;padding-bottom:60%;\"><span style=\"color:#565656\">Make this Notebook Trusted to load map: File -> Trust Notebook</span><iframe srcdoc=\"&lt;!DOCTYPE html&gt;\n",
       "&lt;html&gt;\n",
       "&lt;head&gt;\n",
       "    \n",
       "    &lt;meta http-equiv=&quot;content-type&quot; content=&quot;text/html; charset=UTF-8&quot; /&gt;\n",
       "    \n",
       "        &lt;script&gt;\n",
       "            L_NO_TOUCH = false;\n",
       "            L_DISABLE_3D = false;\n",
       "        &lt;/script&gt;\n",
       "    \n",
       "    &lt;style&gt;html, body {width: 100%;height: 100%;margin: 0;padding: 0;}&lt;/style&gt;\n",
       "    &lt;style&gt;#map {position:absolute;top:0;bottom:0;right:0;left:0;}&lt;/style&gt;\n",
       "    &lt;script src=&quot;https://cdn.jsdelivr.net/npm/leaflet@1.9.3/dist/leaflet.js&quot;&gt;&lt;/script&gt;\n",
       "    &lt;script src=&quot;https://code.jquery.com/jquery-1.12.4.min.js&quot;&gt;&lt;/script&gt;\n",
       "    &lt;script src=&quot;https://cdn.jsdelivr.net/npm/bootstrap@5.2.2/dist/js/bootstrap.bundle.min.js&quot;&gt;&lt;/script&gt;\n",
       "    &lt;script src=&quot;https://cdnjs.cloudflare.com/ajax/libs/Leaflet.awesome-markers/2.0.2/leaflet.awesome-markers.js&quot;&gt;&lt;/script&gt;\n",
       "    &lt;link rel=&quot;stylesheet&quot; href=&quot;https://cdn.jsdelivr.net/npm/leaflet@1.9.3/dist/leaflet.css&quot;/&gt;\n",
       "    &lt;link rel=&quot;stylesheet&quot; href=&quot;https://cdn.jsdelivr.net/npm/bootstrap@5.2.2/dist/css/bootstrap.min.css&quot;/&gt;\n",
       "    &lt;link rel=&quot;stylesheet&quot; href=&quot;https://netdna.bootstrapcdn.com/bootstrap/3.0.0/css/bootstrap.min.css&quot;/&gt;\n",
       "    &lt;link rel=&quot;stylesheet&quot; href=&quot;https://cdn.jsdelivr.net/npm/@fortawesome/fontawesome-free@6.2.0/css/all.min.css&quot;/&gt;\n",
       "    &lt;link rel=&quot;stylesheet&quot; href=&quot;https://cdnjs.cloudflare.com/ajax/libs/Leaflet.awesome-markers/2.0.2/leaflet.awesome-markers.css&quot;/&gt;\n",
       "    &lt;link rel=&quot;stylesheet&quot; href=&quot;https://cdn.jsdelivr.net/gh/python-visualization/folium/folium/templates/leaflet.awesome.rotate.min.css&quot;/&gt;\n",
       "    \n",
       "            &lt;meta name=&quot;viewport&quot; content=&quot;width=device-width,\n",
       "                initial-scale=1.0, maximum-scale=1.0, user-scalable=no&quot; /&gt;\n",
       "            &lt;style&gt;\n",
       "                #map_6b5831a6097e6ca5fd33264ab5e0b46d {\n",
       "                    position: relative;\n",
       "                    width: 100.0%;\n",
       "                    height: 100.0%;\n",
       "                    left: 0.0%;\n",
       "                    top: 0.0%;\n",
       "                }\n",
       "                .leaflet-container { font-size: 1rem; }\n",
       "            &lt;/style&gt;\n",
       "        \n",
       "&lt;/head&gt;\n",
       "&lt;body&gt;\n",
       "    \n",
       "    \n",
       "            &lt;div class=&quot;folium-map&quot; id=&quot;map_6b5831a6097e6ca5fd33264ab5e0b46d&quot; &gt;&lt;/div&gt;\n",
       "        \n",
       "&lt;/body&gt;\n",
       "&lt;script&gt;\n",
       "    \n",
       "    \n",
       "            var map_6b5831a6097e6ca5fd33264ab5e0b46d = L.map(\n",
       "                &quot;map_6b5831a6097e6ca5fd33264ab5e0b46d&quot;,\n",
       "                {\n",
       "                    center: [39.0, -98.0],\n",
       "                    crs: L.CRS.EPSG3857,\n",
       "                    zoom: 4,\n",
       "                    zoomControl: true,\n",
       "                    preferCanvas: false,\n",
       "                }\n",
       "            );\n",
       "\n",
       "            \n",
       "\n",
       "        \n",
       "    \n",
       "            var tile_layer_41ee4123660693da05270b7ddffbae7e = L.tileLayer(\n",
       "                &quot;https://{s}.tile.openstreetmap.org/{z}/{x}/{y}.png&quot;,\n",
       "                {&quot;attribution&quot;: &quot;Data by \\u0026copy; \\u003ca target=\\&quot;_blank\\&quot; href=\\&quot;http://openstreetmap.org\\&quot;\\u003eOpenStreetMap\\u003c/a\\u003e, under \\u003ca target=\\&quot;_blank\\&quot; href=\\&quot;http://www.openstreetmap.org/copyright\\&quot;\\u003eODbL\\u003c/a\\u003e.&quot;, &quot;detectRetina&quot;: false, &quot;maxNativeZoom&quot;: 18, &quot;maxZoom&quot;: 18, &quot;minZoom&quot;: 0, &quot;noWrap&quot;: false, &quot;opacity&quot;: 1, &quot;subdomains&quot;: &quot;abc&quot;, &quot;tms&quot;: false}\n",
       "            ).addTo(map_6b5831a6097e6ca5fd33264ab5e0b46d);\n",
       "        \n",
       "    \n",
       "            var circle_marker_8daf50c18366e4840657b60381268487 = L.circleMarker(\n",
       "                [34.0522, -118.2437],\n",
       "                {&quot;bubblingMouseEvents&quot;: true, &quot;color&quot;: &quot;crimson&quot;, &quot;dashArray&quot;: null, &quot;dashOffset&quot;: null, &quot;fill&quot;: true, &quot;fillColor&quot;: &quot;crimson&quot;, &quot;fillOpacity&quot;: 0.7, &quot;fillRule&quot;: &quot;evenodd&quot;, &quot;lineCap&quot;: &quot;round&quot;, &quot;lineJoin&quot;: &quot;round&quot;, &quot;opacity&quot;: 1.0, &quot;radius&quot;: 13.5, &quot;stroke&quot;: true, &quot;weight&quot;: 3}\n",
       "            ).addTo(map_6b5831a6097e6ca5fd33264ab5e0b46d);\n",
       "        \n",
       "    \n",
       "        var popup_a149e4d895a52ab9e7d78ceb262adfca = L.popup({&quot;maxWidth&quot;: 250});\n",
       "\n",
       "        \n",
       "            \n",
       "                var html_ec069235738c6e0a4550c502ada99062 = $(`&lt;div id=&quot;html_ec069235738c6e0a4550c502ada99062&quot; style=&quot;width: 100.0%; height: 100.0%;&quot;&gt;&lt;b&gt;Los Angeles, CA&lt;/b&gt;&lt;br&gt;Shootings: 85&lt;/div&gt;`)[0];\n",
       "                popup_a149e4d895a52ab9e7d78ceb262adfca.setContent(html_ec069235738c6e0a4550c502ada99062);\n",
       "            \n",
       "        \n",
       "\n",
       "        circle_marker_8daf50c18366e4840657b60381268487.bindPopup(popup_a149e4d895a52ab9e7d78ceb262adfca)\n",
       "        ;\n",
       "\n",
       "        \n",
       "    \n",
       "    \n",
       "            var circle_marker_bbd6aa06ab01c24b815705e350d79dea = L.circleMarker(\n",
       "                [33.4484, -112.074],\n",
       "                {&quot;bubblingMouseEvents&quot;: true, &quot;color&quot;: &quot;crimson&quot;, &quot;dashArray&quot;: null, &quot;dashOffset&quot;: null, &quot;fill&quot;: true, &quot;fillColor&quot;: &quot;crimson&quot;, &quot;fillOpacity&quot;: 0.7, &quot;fillRule&quot;: &quot;evenodd&quot;, &quot;lineCap&quot;: &quot;round&quot;, &quot;lineJoin&quot;: &quot;round&quot;, &quot;opacity&quot;: 1.0, &quot;radius&quot;: 12.7, &quot;stroke&quot;: true, &quot;weight&quot;: 3}\n",
       "            ).addTo(map_6b5831a6097e6ca5fd33264ab5e0b46d);\n",
       "        \n",
       "    \n",
       "        var popup_b599b86727951a20bc3e63d5aba5f38a = L.popup({&quot;maxWidth&quot;: 250});\n",
       "\n",
       "        \n",
       "            \n",
       "                var html_abe8a4bd00043aac8c36fca467c7b4ee = $(`&lt;div id=&quot;html_abe8a4bd00043aac8c36fca467c7b4ee&quot; style=&quot;width: 100.0%; height: 100.0%;&quot;&gt;&lt;b&gt;Phoenix, AZ&lt;/b&gt;&lt;br&gt;Shootings: 77&lt;/div&gt;`)[0];\n",
       "                popup_b599b86727951a20bc3e63d5aba5f38a.setContent(html_abe8a4bd00043aac8c36fca467c7b4ee);\n",
       "            \n",
       "        \n",
       "\n",
       "        circle_marker_bbd6aa06ab01c24b815705e350d79dea.bindPopup(popup_b599b86727951a20bc3e63d5aba5f38a)\n",
       "        ;\n",
       "\n",
       "        \n",
       "    \n",
       "    \n",
       "            var circle_marker_91bded25569ca7d55c8321b9d531a151 = L.circleMarker(\n",
       "                [29.7604, -95.3698],\n",
       "                {&quot;bubblingMouseEvents&quot;: true, &quot;color&quot;: &quot;crimson&quot;, &quot;dashArray&quot;: null, &quot;dashOffset&quot;: null, &quot;fill&quot;: true, &quot;fillColor&quot;: &quot;crimson&quot;, &quot;fillOpacity&quot;: 0.7, &quot;fillRule&quot;: &quot;evenodd&quot;, &quot;lineCap&quot;: &quot;round&quot;, &quot;lineJoin&quot;: &quot;round&quot;, &quot;opacity&quot;: 1.0, &quot;radius&quot;: 10.6, &quot;stroke&quot;: true, &quot;weight&quot;: 3}\n",
       "            ).addTo(map_6b5831a6097e6ca5fd33264ab5e0b46d);\n",
       "        \n",
       "    \n",
       "        var popup_07aaa2113ba26ead3dd38f4d3bd98a96 = L.popup({&quot;maxWidth&quot;: 250});\n",
       "\n",
       "        \n",
       "            \n",
       "                var html_39775638c564fbbb9dc47df6becbd130 = $(`&lt;div id=&quot;html_39775638c564fbbb9dc47df6becbd130&quot; style=&quot;width: 100.0%; height: 100.0%;&quot;&gt;&lt;b&gt;Houston, TX&lt;/b&gt;&lt;br&gt;Shootings: 56&lt;/div&gt;`)[0];\n",
       "                popup_07aaa2113ba26ead3dd38f4d3bd98a96.setContent(html_39775638c564fbbb9dc47df6becbd130);\n",
       "            \n",
       "        \n",
       "\n",
       "        circle_marker_91bded25569ca7d55c8321b9d531a151.bindPopup(popup_07aaa2113ba26ead3dd38f4d3bd98a96)\n",
       "        ;\n",
       "\n",
       "        \n",
       "    \n",
       "    \n",
       "            var circle_marker_45bfc95a7886faf1009ad318cf133d44 = L.circleMarker(\n",
       "                [36.1699, -115.1398],\n",
       "                {&quot;bubblingMouseEvents&quot;: true, &quot;color&quot;: &quot;crimson&quot;, &quot;dashArray&quot;: null, &quot;dashOffset&quot;: null, &quot;fill&quot;: true, &quot;fillColor&quot;: &quot;crimson&quot;, &quot;fillOpacity&quot;: 0.7, &quot;fillRule&quot;: &quot;evenodd&quot;, &quot;lineCap&quot;: &quot;round&quot;, &quot;lineJoin&quot;: &quot;round&quot;, &quot;opacity&quot;: 1.0, &quot;radius&quot;: 9.5, &quot;stroke&quot;: true, &quot;weight&quot;: 3}\n",
       "            ).addTo(map_6b5831a6097e6ca5fd33264ab5e0b46d);\n",
       "        \n",
       "    \n",
       "        var popup_23feec0cd74d2411a588347e9fb05194 = L.popup({&quot;maxWidth&quot;: 250});\n",
       "\n",
       "        \n",
       "            \n",
       "                var html_141308388dc565b36a5b30e34330fb07 = $(`&lt;div id=&quot;html_141308388dc565b36a5b30e34330fb07&quot; style=&quot;width: 100.0%; height: 100.0%;&quot;&gt;&lt;b&gt;Las Vegas, NV&lt;/b&gt;&lt;br&gt;Shootings: 45&lt;/div&gt;`)[0];\n",
       "                popup_23feec0cd74d2411a588347e9fb05194.setContent(html_141308388dc565b36a5b30e34330fb07);\n",
       "            \n",
       "        \n",
       "\n",
       "        circle_marker_45bfc95a7886faf1009ad318cf133d44.bindPopup(popup_23feec0cd74d2411a588347e9fb05194)\n",
       "        ;\n",
       "\n",
       "        \n",
       "    \n",
       "    \n",
       "            var circle_marker_ba944a9ba41c1b0551dce445961fc04f = L.circleMarker(\n",
       "                [29.4241, -98.4936],\n",
       "                {&quot;bubblingMouseEvents&quot;: true, &quot;color&quot;: &quot;crimson&quot;, &quot;dashArray&quot;: null, &quot;dashOffset&quot;: null, &quot;fill&quot;: true, &quot;fillColor&quot;: &quot;crimson&quot;, &quot;fillOpacity&quot;: 0.7, &quot;fillRule&quot;: &quot;evenodd&quot;, &quot;lineCap&quot;: &quot;round&quot;, &quot;lineJoin&quot;: &quot;round&quot;, &quot;opacity&quot;: 1.0, &quot;radius&quot;: 9.3, &quot;stroke&quot;: true, &quot;weight&quot;: 3}\n",
       "            ).addTo(map_6b5831a6097e6ca5fd33264ab5e0b46d);\n",
       "        \n",
       "    \n",
       "        var popup_d9c35253bcb459fb9e535a77ae1a66a4 = L.popup({&quot;maxWidth&quot;: 250});\n",
       "\n",
       "        \n",
       "            \n",
       "                var html_666ac36a83b31f875f2602b6b37a3b23 = $(`&lt;div id=&quot;html_666ac36a83b31f875f2602b6b37a3b23&quot; style=&quot;width: 100.0%; height: 100.0%;&quot;&gt;&lt;b&gt;San Antonio, TX&lt;/b&gt;&lt;br&gt;Shootings: 43&lt;/div&gt;`)[0];\n",
       "                popup_d9c35253bcb459fb9e535a77ae1a66a4.setContent(html_666ac36a83b31f875f2602b6b37a3b23);\n",
       "            \n",
       "        \n",
       "\n",
       "        circle_marker_ba944a9ba41c1b0551dce445961fc04f.bindPopup(popup_d9c35253bcb459fb9e535a77ae1a66a4)\n",
       "        ;\n",
       "\n",
       "        \n",
       "    \n",
       "    \n",
       "            var circle_marker_5067cb7d581d7cf25c6b6715b305bb67 = L.circleMarker(\n",
       "                [41.8781, -87.6298],\n",
       "                {&quot;bubblingMouseEvents&quot;: true, &quot;color&quot;: &quot;crimson&quot;, &quot;dashArray&quot;: null, &quot;dashOffset&quot;: null, &quot;fill&quot;: true, &quot;fillColor&quot;: &quot;crimson&quot;, &quot;fillOpacity&quot;: 0.7, &quot;fillRule&quot;: &quot;evenodd&quot;, &quot;lineCap&quot;: &quot;round&quot;, &quot;lineJoin&quot;: &quot;round&quot;, &quot;opacity&quot;: 1.0, &quot;radius&quot;: 8.8, &quot;stroke&quot;: true, &quot;weight&quot;: 3}\n",
       "            ).addTo(map_6b5831a6097e6ca5fd33264ab5e0b46d);\n",
       "        \n",
       "    \n",
       "        var popup_6cfc1fca6e8877ab8b0527e8057e42c4 = L.popup({&quot;maxWidth&quot;: 250});\n",
       "\n",
       "        \n",
       "            \n",
       "                var html_f0375beb88f5a968f664164427404ed3 = $(`&lt;div id=&quot;html_f0375beb88f5a968f664164427404ed3&quot; style=&quot;width: 100.0%; height: 100.0%;&quot;&gt;&lt;b&gt;Chicago, IL&lt;/b&gt;&lt;br&gt;Shootings: 38&lt;/div&gt;`)[0];\n",
       "                popup_6cfc1fca6e8877ab8b0527e8057e42c4.setContent(html_f0375beb88f5a968f664164427404ed3);\n",
       "            \n",
       "        \n",
       "\n",
       "        circle_marker_5067cb7d581d7cf25c6b6715b305bb67.bindPopup(popup_6cfc1fca6e8877ab8b0527e8057e42c4)\n",
       "        ;\n",
       "\n",
       "        \n",
       "    \n",
       "    \n",
       "            var circle_marker_170f20860242d097686a1b739eef144f = L.circleMarker(\n",
       "                [35.0844, -106.6504],\n",
       "                {&quot;bubblingMouseEvents&quot;: true, &quot;color&quot;: &quot;crimson&quot;, &quot;dashArray&quot;: null, &quot;dashOffset&quot;: null, &quot;fill&quot;: true, &quot;fillColor&quot;: &quot;crimson&quot;, &quot;fillOpacity&quot;: 0.7, &quot;fillRule&quot;: &quot;evenodd&quot;, &quot;lineCap&quot;: &quot;round&quot;, &quot;lineJoin&quot;: &quot;round&quot;, &quot;opacity&quot;: 1.0, &quot;radius&quot;: 8.5, &quot;stroke&quot;: true, &quot;weight&quot;: 3}\n",
       "            ).addTo(map_6b5831a6097e6ca5fd33264ab5e0b46d);\n",
       "        \n",
       "    \n",
       "        var popup_2c39a63fea43fbf6909b105f4232813e = L.popup({&quot;maxWidth&quot;: 250});\n",
       "\n",
       "        \n",
       "            \n",
       "                var html_f58f4713b8119b11072fb3d98629a068 = $(`&lt;div id=&quot;html_f58f4713b8119b11072fb3d98629a068&quot; style=&quot;width: 100.0%; height: 100.0%;&quot;&gt;&lt;b&gt;Albuquerque, NM&lt;/b&gt;&lt;br&gt;Shootings: 35&lt;/div&gt;`)[0];\n",
       "                popup_2c39a63fea43fbf6909b105f4232813e.setContent(html_f58f4713b8119b11072fb3d98629a068);\n",
       "            \n",
       "        \n",
       "\n",
       "        circle_marker_170f20860242d097686a1b739eef144f.bindPopup(popup_2c39a63fea43fbf6909b105f4232813e)\n",
       "        ;\n",
       "\n",
       "        \n",
       "    \n",
       "    \n",
       "            var circle_marker_25b2995a304b933ce6fcf26d8f3f42f6 = L.circleMarker(\n",
       "                [39.9612, -82.9988],\n",
       "                {&quot;bubblingMouseEvents&quot;: true, &quot;color&quot;: &quot;crimson&quot;, &quot;dashArray&quot;: null, &quot;dashOffset&quot;: null, &quot;fill&quot;: true, &quot;fillColor&quot;: &quot;crimson&quot;, &quot;fillOpacity&quot;: 0.7, &quot;fillRule&quot;: &quot;evenodd&quot;, &quot;lineCap&quot;: &quot;round&quot;, &quot;lineJoin&quot;: &quot;round&quot;, &quot;opacity&quot;: 1.0, &quot;radius&quot;: 8.1, &quot;stroke&quot;: true, &quot;weight&quot;: 3}\n",
       "            ).addTo(map_6b5831a6097e6ca5fd33264ab5e0b46d);\n",
       "        \n",
       "    \n",
       "        var popup_537a7ca626582de17343da7e4f901543 = L.popup({&quot;maxWidth&quot;: 250});\n",
       "\n",
       "        \n",
       "            \n",
       "                var html_2fd68a4a59547500d74192abbf16c55d = $(`&lt;div id=&quot;html_2fd68a4a59547500d74192abbf16c55d&quot; style=&quot;width: 100.0%; height: 100.0%;&quot;&gt;&lt;b&gt;Columbus, OH&lt;/b&gt;&lt;br&gt;Shootings: 31&lt;/div&gt;`)[0];\n",
       "                popup_537a7ca626582de17343da7e4f901543.setContent(html_2fd68a4a59547500d74192abbf16c55d);\n",
       "            \n",
       "        \n",
       "\n",
       "        circle_marker_25b2995a304b933ce6fcf26d8f3f42f6.bindPopup(popup_537a7ca626582de17343da7e4f901543)\n",
       "        ;\n",
       "\n",
       "        \n",
       "    \n",
       "    \n",
       "            var circle_marker_4254035f90881d27464bb956fd018f34 = L.circleMarker(\n",
       "                [39.7392, -104.9903],\n",
       "                {&quot;bubblingMouseEvents&quot;: true, &quot;color&quot;: &quot;crimson&quot;, &quot;dashArray&quot;: null, &quot;dashOffset&quot;: null, &quot;fill&quot;: true, &quot;fillColor&quot;: &quot;crimson&quot;, &quot;fillOpacity&quot;: 0.7, &quot;fillRule&quot;: &quot;evenodd&quot;, &quot;lineCap&quot;: &quot;round&quot;, &quot;lineJoin&quot;: &quot;round&quot;, &quot;opacity&quot;: 1.0, &quot;radius&quot;: 8.0, &quot;stroke&quot;: true, &quot;weight&quot;: 3}\n",
       "            ).addTo(map_6b5831a6097e6ca5fd33264ab5e0b46d);\n",
       "        \n",
       "    \n",
       "        var popup_b5da565c47015627535fb22ae17dbe5b = L.popup({&quot;maxWidth&quot;: 250});\n",
       "\n",
       "        \n",
       "            \n",
       "                var html_14d345eb8d40a650151ab659103a1c63 = $(`&lt;div id=&quot;html_14d345eb8d40a650151ab659103a1c63&quot; style=&quot;width: 100.0%; height: 100.0%;&quot;&gt;&lt;b&gt;Denver, CO&lt;/b&gt;&lt;br&gt;Shootings: 30&lt;/div&gt;`)[0];\n",
       "                popup_b5da565c47015627535fb22ae17dbe5b.setContent(html_14d345eb8d40a650151ab659103a1c63);\n",
       "            \n",
       "        \n",
       "\n",
       "        circle_marker_4254035f90881d27464bb956fd018f34.bindPopup(popup_b5da565c47015627535fb22ae17dbe5b)\n",
       "        ;\n",
       "\n",
       "        \n",
       "    \n",
       "    \n",
       "            var circle_marker_e33ee4750d7789580d51c5323a526341 = L.circleMarker(\n",
       "                [35.4676, -97.5164],\n",
       "                {&quot;bubblingMouseEvents&quot;: true, &quot;color&quot;: &quot;crimson&quot;, &quot;dashArray&quot;: null, &quot;dashOffset&quot;: null, &quot;fill&quot;: true, &quot;fillColor&quot;: &quot;crimson&quot;, &quot;fillOpacity&quot;: 0.7, &quot;fillRule&quot;: &quot;evenodd&quot;, &quot;lineCap&quot;: &quot;round&quot;, &quot;lineJoin&quot;: &quot;round&quot;, &quot;opacity&quot;: 1.0, &quot;radius&quot;: 8.0, &quot;stroke&quot;: true, &quot;weight&quot;: 3}\n",
       "            ).addTo(map_6b5831a6097e6ca5fd33264ab5e0b46d);\n",
       "        \n",
       "    \n",
       "        var popup_b61b619fa5205f8a80c8697a9eef7beb = L.popup({&quot;maxWidth&quot;: 250});\n",
       "\n",
       "        \n",
       "            \n",
       "                var html_71cfbef2d340dd2acf2263662f8c6562 = $(`&lt;div id=&quot;html_71cfbef2d340dd2acf2263662f8c6562&quot; style=&quot;width: 100.0%; height: 100.0%;&quot;&gt;&lt;b&gt;Oklahoma City, OK&lt;/b&gt;&lt;br&gt;Shootings: 30&lt;/div&gt;`)[0];\n",
       "                popup_b61b619fa5205f8a80c8697a9eef7beb.setContent(html_71cfbef2d340dd2acf2263662f8c6562);\n",
       "            \n",
       "        \n",
       "\n",
       "        circle_marker_e33ee4750d7789580d51c5323a526341.bindPopup(popup_b61b619fa5205f8a80c8697a9eef7beb)\n",
       "        ;\n",
       "\n",
       "        \n",
       "    \n",
       "&lt;/script&gt;\n",
       "&lt;/html&gt;\" style=\"position:absolute;width:100%;height:100%;left:0;top:0;border:none !important;\" allowfullscreen webkitallowfullscreen mozallowfullscreen></iframe></div></div>"
      ],
      "text/plain": [
       "<folium.folium.Map at 0x15875c710>"
      ]
     },
     "execution_count": 66,
     "metadata": {},
     "output_type": "execute_result"
    }
   ],
   "source": [
    "m"
   ]
  },
  {
   "cell_type": "code",
   "execution_count": 69,
   "id": "d04d3f8d-acf3-49c2-b382-79670765be03",
   "metadata": {},
   "outputs": [],
   "source": [
    "m.save(\"top10_police_shootings_map.html\")\n"
   ]
  },
  {
   "cell_type": "code",
   "execution_count": 77,
   "id": "111c77f1-20e2-40aa-90f1-6d37dc496f64",
   "metadata": {},
   "outputs": [
    {
     "name": "stdout",
     "output_type": "stream",
     "text": [
      "How many people have repoerted their ages: 5181\n"
     ]
    }
   ],
   "source": [
    "\n",
    "print(f'How many people have repoerted their ages: {df.age.count()}')"
   ]
  },
  {
   "cell_type": "code",
   "execution_count": 72,
   "id": "cf13df27-b9d9-4f85-9da5-e508de2f3822",
   "metadata": {},
   "outputs": [
    {
     "data": {
      "text/plain": [
       "(5416, 17)"
      ]
     },
     "execution_count": 72,
     "metadata": {},
     "output_type": "execute_result"
    }
   ],
   "source": [
    "df.shape"
   ]
  },
  {
   "cell_type": "code",
   "execution_count": 73,
   "id": "a0dd36b1-4cc1-42d9-b639-5d4808c0d13c",
   "metadata": {},
   "outputs": [
    {
     "data": {
      "text/plain": [
       "235"
      ]
     },
     "execution_count": 73,
     "metadata": {},
     "output_type": "execute_result"
    }
   ],
   "source": [
    "5416-5181"
   ]
  },
  {
   "cell_type": "code",
   "execution_count": 78,
   "id": "f9c08402-6e0b-4ea3-a45b-b2ab18450925",
   "metadata": {},
   "outputs": [
    {
     "data": {
      "text/plain": [
       "Index(['id', 'name', 'date', 'manner_of_death', 'armed', 'age', 'gender',\n",
       "       'race', 'city', 'state', 'signs_of_mental_illness', 'threat_level',\n",
       "       'flee', 'body_camera', 'year', 'month', 'weekday'],\n",
       "      dtype='object')"
      ]
     },
     "execution_count": 78,
     "metadata": {},
     "output_type": "execute_result"
    }
   ],
   "source": [
    "df.columns"
   ]
  },
  {
   "cell_type": "code",
   "execution_count": 79,
   "id": "b36382f0-b454-4c4e-ae02-196304d390b6",
   "metadata": {},
   "outputs": [
    {
     "name": "stdout",
     "output_type": "stream",
     "text": [
      "Uniqge for age: 77\n"
     ]
    }
   ],
   "source": [
    "print(f'Uniqge for age: {df.age.nunique()}')"
   ]
  },
  {
   "cell_type": "code",
   "execution_count": 80,
   "id": "9f9b71f3-c1b9-4ebc-bc0b-575937c13fd3",
   "metadata": {},
   "outputs": [
    {
     "name": "stdout",
     "output_type": "stream",
     "text": [
      "Uniqge for race: 7\n"
     ]
    }
   ],
   "source": [
    "print(f'Uniqge for race: {df.race.nunique()}')"
   ]
  },
  {
   "cell_type": "code",
   "execution_count": 82,
   "id": "539c6100-ec49-46bb-8559-bb810ea94ed9",
   "metadata": {},
   "outputs": [
    {
     "name": "stdout",
     "output_type": "stream",
     "text": [
      "race type: object\n"
     ]
    }
   ],
   "source": [
    "print(f'race type: {df.race.dtype}')"
   ]
  },
  {
   "cell_type": "code",
   "execution_count": null,
   "id": "84ed43e6-dac6-464d-ad41-ad4e9a3d842d",
   "metadata": {},
   "outputs": [],
   "source": []
  },
  {
   "cell_type": "code",
   "execution_count": null,
   "id": "c89cfe93-5048-4f05-be41-70fc0eb10e47",
   "metadata": {},
   "outputs": [],
   "source": []
  },
  {
   "cell_type": "code",
   "execution_count": 55,
   "id": "4e927c5d-de87-4c5f-b222-f03975527253",
   "metadata": {},
   "outputs": [
    {
     "name": "stdout",
     "output_type": "stream",
     "text": [
      "Requirement already satisfied: geopy in /opt/anaconda3/lib/python3.12/site-packages (2.4.1)\n",
      "Requirement already satisfied: geographiclib<3,>=1.52 in /opt/anaconda3/lib/python3.12/site-packages (from geopy) (2.0)\n"
     ]
    }
   ],
   "source": [
    "!pip install geopy\n"
   ]
  },
  {
   "cell_type": "code",
   "execution_count": 56,
   "id": "6cde8577-533a-405a-bb60-86f6fbe8562f",
   "metadata": {},
   "outputs": [],
   "source": [
    "#from geopy.geocoders import Nominatim #  is a geocoder (part of the OpenStreetMap project) that can turn \"City, State, USA\" into lat/lon.\n",
    "#import time # when it runs/ loops lets us pause between requests to avoid getting blocked.\n",
    "\n",
    "#geolocator = Nominatim(user_agent=\"shootings_mapper\") # you can pick any name You must give it a user_agent string. It’s like an ID telling the server who you are.\n",
    "\n",
    "#city_state_counts[\"latitude\"] = None # makes new column stores in \" none \" for now\n",
    "#city_state_counts[\"longitude\"] = None\n",
    "\n",
    "#for i, row in city_state_counts.iterrows(): #gives u the row number, row gives u the Series with all the data from that row.\n",
    " #   location_name = f\"{row['city']}, {row['state']}, USA\" #  Create a string for the place to look up. into geocoder\n",
    "  #  try:\n",
    "   #     location = geolocator.geocode(location_name, timeout=10)\n",
    "    #    if location:\n",
    "        #    city_state_counts.at[i, \"latitude\"] = location.latitude\n",
    "         #   city_state_counts.at[i, \"longitude\"] = location.longitude\n",
    "       # else:\n",
    "           # print(f\"Location not found: {location_name}\")\n",
    "   # except Exception as e:\n",
    "        #print(f\"Error geocoding {location_name}: {e}\")\n",
    "\n",
    "    # Sleep longer between requests\n",
    "    #time.sleep(2)\n"
   ]
  }
 ],
 "metadata": {
  "kernelspec": {
   "display_name": "Python [conda env:base] *",
   "language": "python",
   "name": "conda-base-py"
  },
  "language_info": {
   "codemirror_mode": {
    "name": "ipython",
    "version": 3
   },
   "file_extension": ".py",
   "mimetype": "text/x-python",
   "name": "python",
   "nbconvert_exporter": "python",
   "pygments_lexer": "ipython3",
   "version": "3.12.7"
  }
 },
 "nbformat": 4,
 "nbformat_minor": 5
}
